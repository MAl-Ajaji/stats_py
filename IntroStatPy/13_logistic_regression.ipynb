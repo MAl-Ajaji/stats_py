{
 "cells": [
  {
   "cell_type": "markdown",
   "metadata": {},
   "source": [
    "### Logistic Regression\n",
    "A logistic regression is an example of a \"Generalized Linear Model (GLM)\".\n",
    "\n",
    "The input values are the recorded O-ring data from the space shuttle launches before 1986,\n",
    "and the fit indicates the likelihood of failure for an O-ring.\n",
    "\n",
    "Taken from http://www.brightstat.com/index.php?option=com_content&task=view&id=41&Itemid=1&limit=1&limitstart=2"
   ]
  },
  {
   "cell_type": "code",
   "execution_count": null,
   "metadata": {},
   "outputs": [],
   "source": [
    "# Copyright(c) 2015, Thomas Haslwanter. All rights reserved, under the CC BY-SA 4.0 International License"
   ]
  },
  {
   "cell_type": "code",
   "execution_count": 1,
   "metadata": {},
   "outputs": [],
   "source": [
    "# Import standard packages\n",
    "import numpy as np\n",
    "import matplotlib.pyplot as plt\n",
    "import os\n",
    "import pandas as pd\n",
    "import seaborn as sns"
   ]
  },
  {
   "cell_type": "code",
   "execution_count": 9,
   "metadata": {},
   "outputs": [],
   "source": [
    "import warnings\n",
    "warnings.filterwarnings('ignore')"
   ]
  },
  {
   "cell_type": "code",
   "execution_count": 2,
   "metadata": {},
   "outputs": [],
   "source": [
    "# additional packages\n",
    "import sys\n",
    "sys.path.append(os.path.join('..', '..', 'Utilities'))\n",
    "\n",
    "try:\n",
    "# Import formatting commands if directory \"Utilities\" is available\n",
    "    from ISP_mystyle import setFonts, showData \n",
    "    \n",
    "except ImportError:\n",
    "# Ensure correct performance otherwise\n",
    "    def setFonts(*options):\n",
    "        return\n",
    "    def showData(*options):\n",
    "        plt.show()\n",
    "        return"
   ]
  },
  {
   "cell_type": "code",
   "execution_count": 3,
   "metadata": {},
   "outputs": [],
   "source": [
    "from statsmodels.formula.api import glm\n",
    "from statsmodels.genmod.families import Binomial\n",
    "\n",
    "sns.set_context('poster')"
   ]
  },
  {
   "cell_type": "code",
   "execution_count": 4,
   "metadata": {},
   "outputs": [],
   "source": [
    "def getData():\n",
    "    '''Get the data '''\n",
    "    \n",
    "    inFile = 'challenger_data.csv'\n",
    "    data = np.genfromtxt(inFile, skip_header=1, usecols=[1, 2],\n",
    "                                    missing_values='NA', delimiter=',')\n",
    "    # Eliminate NaNs\n",
    "    data = data[~np.isnan(data[:, 1])]\n",
    "    \n",
    "    return data"
   ]
  },
  {
   "cell_type": "code",
   "execution_count": 5,
   "metadata": {},
   "outputs": [],
   "source": [
    "def prepareForFit(inData):\n",
    "    ''' Make the temperature-values unique, and count the number of failures and successes.\n",
    "    Returns a DataFrame'''\n",
    "    \n",
    "    # Create a dataframe, with suitable columns for the fit\n",
    "    df = pd.DataFrame()\n",
    "    df['temp'] = np.unique(inData[:,0])\n",
    "    df['failed'] = 0\n",
    "    df['ok'] = 0\n",
    "    df['total'] = 0\n",
    "    df.index = df.temp.values\n",
    "    \n",
    "    # Count the number of starts and failures\n",
    "    for ii in range(inData.shape[0]):\n",
    "        curTemp = inData[ii,0]\n",
    "        curVal  = inData[ii,1]\n",
    "        df.loc[curTemp,'total'] += 1\n",
    "        if curVal == 1:\n",
    "            df.loc[curTemp, 'failed'] += 1\n",
    "        else:\n",
    "            df.loc[curTemp, 'ok'] += 1\n",
    "    \n",
    "    return df"
   ]
  },
  {
   "cell_type": "code",
   "execution_count": 6,
   "metadata": {},
   "outputs": [],
   "source": [
    "def logistic(x, beta, alpha=0):\n",
    "    ''' Logistic Function '''\n",
    "    return 1.0 / (1.0 + np.exp(np.dot(beta, x) + alpha))"
   ]
  },
  {
   "cell_type": "code",
   "execution_count": 7,
   "metadata": {},
   "outputs": [],
   "source": [
    "def showResults(challenger_data, model):\n",
    "    ''' Show the original data, and the resulting logit-fit'''\n",
    "    \n",
    "    temperature = challenger_data[:,0]\n",
    "    failures = challenger_data[:,1]\n",
    "    \n",
    "    # First plot the original data\n",
    "    plt.figure()\n",
    "    setFonts()\n",
    "    sns.set_style('darkgrid')\n",
    "    np.set_printoptions(precision=3, suppress=True)\n",
    "    \n",
    "    plt.scatter(temperature, failures, s=200, color=\"k\", alpha=0.5)\n",
    "    plt.yticks([0, 1])\n",
    "    plt.ylabel(\"Damage Incident?\")\n",
    "    plt.xlabel(\"Outside Temperature [F]\")\n",
    "    plt.title(\"Defects of the Space Shuttle O-Rings vs temperature\")\n",
    "    plt.tight_layout\n",
    "    \n",
    "    # Plot the fit\n",
    "    x = np.arange(50, 85)\n",
    "    alpha = model.params[0]\n",
    "    beta = model.params[1]\n",
    "    y = logistic(x, beta, alpha)\n",
    "    \n",
    "    plt.hold(True)\n",
    "    plt.plot(x,y,'r')\n",
    "    plt.xlim([50, 85])\n",
    "    \n",
    "    outFile = 'ChallengerPlain.png'\n",
    "    showData(outFile)"
   ]
  },
  {
   "cell_type": "code",
   "execution_count": 10,
   "metadata": {},
   "outputs": [
    {
     "name": "stdout",
     "output_type": "stream",
     "text": [
      "                 Generalized Linear Model Regression Results                  \n",
      "==============================================================================\n",
      "Dep. Variable:       ['ok', 'failed']   No. Observations:                   16\n",
      "Model:                            GLM   Df Residuals:                       14\n",
      "Model Family:                Binomial   Df Model:                            1\n",
      "Link Function:                  logit   Scale:                          1.0000\n",
      "Method:                          IRLS   Log-Likelihood:                -7.6727\n",
      "Date:                Fri, 15 Feb 2019   Deviance:                       11.997\n",
      "Time:                        14:21:06   Pearson chi2:                     11.1\n",
      "No. Iterations:                     5   Covariance Type:             nonrobust\n",
      "==============================================================================\n",
      "                 coef    std err          z      P>|z|      [0.025      0.975]\n",
      "------------------------------------------------------------------------------\n",
      "Intercept    -15.0429      7.379     -2.039      0.041     -29.505      -0.581\n",
      "temp           0.2322      0.108      2.145      0.032       0.020       0.444\n",
      "==============================================================================\n"
     ]
    },
    {
     "data": {
      "image/png": "[encoded data removed]",
      "text/plain": [
       "<Figure size 432x288 with 1 Axes>"
      ]
     },
     "metadata": {},
     "output_type": "display_data"
    }
   ],
   "source": [
    "if __name__ == '__main__':\n",
    "    inData = getData()\n",
    "    dfFit = prepareForFit(inData)\n",
    "    \n",
    "    # fit the model\n",
    "    \n",
    "    # --- >>> START stats <<< ---\n",
    "    model = glm('ok + failed ~ temp', data=dfFit, family=Binomial()).fit()\n",
    "    # --- >>> STOP stats <<< ---\n",
    "    \n",
    "    print(model.summary())\n",
    "    \n",
    "    showResults(inData, model)"
   ]
  },
  {
   "cell_type": "code",
   "execution_count": 11,
   "metadata": {},
   "outputs": [
    {
     "data": {
      "text/html": [
       "<div>\n",
       "<style scoped>\n",
       "    .dataframe tbody tr th:only-of-type {\n",
       "        vertical-align: middle;\n",
       "    }\n",
       "\n",
       "    .dataframe tbody tr th {\n",
       "        vertical-align: top;\n",
       "    }\n",
       "\n",
       "    .dataframe thead th {\n",
       "        text-align: right;\n",
       "    }\n",
       "</style>\n",
       "<table border=\"1\" class=\"dataframe\">\n",
       "  <thead>\n",
       "    <tr style=\"text-align: right;\">\n",
       "      <th></th>\n",
       "      <th>temp</th>\n",
       "      <th>failed</th>\n",
       "      <th>ok</th>\n",
       "      <th>total</th>\n",
       "    </tr>\n",
       "  </thead>\n",
       "  <tbody>\n",
       "    <tr>\n",
       "      <th>53.0</th>\n",
       "      <td>53.0</td>\n",
       "      <td>1</td>\n",
       "      <td>0</td>\n",
       "      <td>1</td>\n",
       "    </tr>\n",
       "    <tr>\n",
       "      <th>57.0</th>\n",
       "      <td>57.0</td>\n",
       "      <td>1</td>\n",
       "      <td>0</td>\n",
       "      <td>1</td>\n",
       "    </tr>\n",
       "    <tr>\n",
       "      <th>58.0</th>\n",
       "      <td>58.0</td>\n",
       "      <td>1</td>\n",
       "      <td>0</td>\n",
       "      <td>1</td>\n",
       "    </tr>\n",
       "    <tr>\n",
       "      <th>63.0</th>\n",
       "      <td>63.0</td>\n",
       "      <td>1</td>\n",
       "      <td>0</td>\n",
       "      <td>1</td>\n",
       "    </tr>\n",
       "    <tr>\n",
       "      <th>66.0</th>\n",
       "      <td>66.0</td>\n",
       "      <td>0</td>\n",
       "      <td>1</td>\n",
       "      <td>1</td>\n",
       "    </tr>\n",
       "  </tbody>\n",
       "</table>\n",
       "</div>"
      ],
      "text/plain": [
       "      temp  failed  ok  total\n",
       "53.0  53.0       1   0      1\n",
       "57.0  57.0       1   0      1\n",
       "58.0  58.0       1   0      1\n",
       "63.0  63.0       1   0      1\n",
       "66.0  66.0       0   1      1"
      ]
     },
     "execution_count": 11,
     "metadata": {},
     "output_type": "execute_result"
    }
   ],
   "source": [
    "dfFit.head()"
   ]
  },
  {
   "cell_type": "code",
   "execution_count": null,
   "metadata": {},
   "outputs": [],
   "source": [
    "# https://github.com/thomas-haslwanter/statsintro_python/tree/master/ISP/Code_Quantlets/13_LogisticRegression/LogisticRegression"
   ]
  }
 ],
 "metadata": {
  "kernelspec": {
   "display_name": "Python 3",
   "language": "python",
   "name": "python3"
  },
  "language_info": {
   "codemirror_mode": {
    "name": "ipython",
    "version": 3
   },
   "file_extension": ".py",
   "mimetype": "text/x-python",
   "name": "python",
   "nbconvert_exporter": "python",
   "pygments_lexer": "ipython3",
   "version": "3.5.5"
  }
 },
 "nbformat": 4,
 "nbformat_minor": 2
}
