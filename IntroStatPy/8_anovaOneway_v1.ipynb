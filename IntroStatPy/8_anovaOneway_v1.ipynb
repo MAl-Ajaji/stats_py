{
 "cells": [
  {
   "cell_type": "markdown",
   "metadata": {
    "slideshow": {
     "slide_type": "slide"
    }
   },
   "source": [
    "# One-way ANOVA\n",
    "\n",
    "For the one-way ANOVA, you can use either the function in \"scipy.stats\". Alternatively, you can use the \"statsmodel\" tools: they provide more, and nicer formatted, information.\n",
    "\n",
    "Author:  Thomas Haslwanter, Date:    Feb-2017"
   ]
  },
  {
   "cell_type": "code",
   "execution_count": 1,
   "metadata": {
    "slideshow": {
     "slide_type": "fragment"
    }
   },
   "outputs": [
    {
     "name": "stdout",
     "output_type": "stream",
     "text": [
      "Populating the interactive namespace from numpy and matplotlib\n"
     ]
    }
   ],
   "source": [
    "%pylab inline\n",
    "import scipy.stats as stats\n",
    "import pandas as pd\n",
    "import urllib\n",
    "from statsmodels.formula.api import ols\n",
    "from statsmodels.stats.anova import anova_lm\n",
    "import seaborn as sns"
   ]
  },
  {
   "cell_type": "markdown",
   "metadata": {
    "slideshow": {
     "slide_type": "slide"
    }
   },
   "source": [
    "# The importance of the variance"
   ]
  },
  {
   "cell_type": "code",
   "execution_count": 2,
   "metadata": {
    "slideshow": {
     "slide_type": "fragment"
    }
   },
   "outputs": [
    {
     "data": {
      "image/png": "[encoded data removed]",
      "text/plain": [
       "<Figure size 432x288 with 1 Axes>"
      ]
     },
     "metadata": {},
     "output_type": "display_data"
    }
   ],
   "source": [
    "centers = [5, 5.3, 4.7]\n",
    "std1 = 0.1\n",
    "colors = 'brg'\n",
    "\n",
    "data1 = []\n",
    "for ii in range(3):\n",
    "    data1.append(stats.norm(centers[ii], std1).rvs(100))\n",
    "    plot(arange(len(data1[ii]))+ii*len(data1[0]), data1[ii], '.', color=colors[ii])"
   ]
  },
  {
   "cell_type": "code",
   "execution_count": 4,
   "metadata": {},
   "outputs": [
    {
     "data": {
      "text/plain": [
       "array([5.04614817, 4.92927692, 5.16107205, 5.05015404, 4.88739983,\n",
       "       4.90388347, 4.97547151, 4.82081462, 5.13231738, 5.04373109,\n",
       "       5.08687299, 4.90010586, 4.91095055, 5.17479219, 5.00540311,\n",
       "       5.04779988, 4.95789308, 4.93157987, 5.0420634 , 5.15451979,\n",
       "       4.85039816, 5.017734  , 4.96366836, 5.03549103, 5.01201883,\n",
       "       4.96240659, 5.19524823, 5.09201117, 4.91138382, 4.97018549,\n",
       "       4.98232163, 4.92040401, 4.83877277, 5.14464915, 4.9222298 ,\n",
       "       5.13869943, 5.02881934, 4.87115781, 4.84342673, 5.00945363,\n",
       "       5.07166993, 5.18217761, 4.97182632, 4.85144784, 4.89560606,\n",
       "       4.88407278, 5.01218176, 4.91096191, 5.06690788, 5.04521763,\n",
       "       4.84080762, 4.86386708, 5.07650588, 5.05484714, 5.16499317,\n",
       "       5.1358201 , 5.02920424, 5.12270882, 4.99901286, 5.0741404 ,\n",
       "       5.01090052, 5.0767541 , 5.1596906 , 4.80131469, 4.99895033,\n",
       "       4.78122763, 5.07011249, 5.01697946, 5.10112784, 4.84423947,\n",
       "       5.0801198 , 5.03497081, 5.05993428, 5.08423351, 4.69602621,\n",
       "       5.17089628, 5.16021403, 5.09897437, 5.09709562, 4.93179669,\n",
       "       5.06544894, 4.87519073, 5.04851527, 5.04491188, 5.11772412,\n",
       "       4.95385529, 5.23282516, 4.80724882, 5.05906838, 4.9164509 ,\n",
       "       4.93675492, 5.02412096, 5.02457544, 4.99188917, 5.00173762,\n",
       "       5.00085093, 4.93059626, 5.02303943, 4.9271662 , 4.91311812])"
      ]
     },
     "execution_count": 4,
     "metadata": {},
     "output_type": "execute_result"
    }
   ],
   "source": [
    "data1[0]"
   ]
  },
  {
   "cell_type": "code",
   "execution_count": 3,
   "metadata": {
    "slideshow": {
     "slide_type": "subslide"
    }
   },
   "outputs": [
    {
     "data": {
      "image/png": "[encoded data removed]",
      "text/plain": [
       "<Figure size 432x288 with 1 Axes>"
      ]
     },
     "metadata": {},
     "output_type": "display_data"
    }
   ],
   "source": [
    "std2 = 2\n",
    "data2 = []\n",
    "for ii in range(3):\n",
    "    data2.append(stats.norm(centers[ii], std2).rvs(100))\n",
    "    plot(arange(len(data1[ii]))+ii*len(data2[0]), data2[ii], '.', color=colors[ii])"
   ]
  },
  {
   "cell_type": "markdown",
   "metadata": {
    "slideshow": {
     "slide_type": "fragment"
    }
   },
   "source": [
    "**Note:** In both cases the means have the same difference, but the variance is much larger in data2!"
   ]
  },
  {
   "cell_type": "markdown",
   "metadata": {
    "slideshow": {
     "slide_type": "slide"
    }
   },
   "source": [
    "## ANOVA with Sample Data"
   ]
  },
  {
   "cell_type": "markdown",
   "metadata": {
    "slideshow": {
     "slide_type": "fragment"
    }
   },
   "source": [
    "### Get and sort sample data\n",
    "\n",
    "*Twenty-two patients undergoing cardiac bypass surgery were randomized to one of three ventilation groups:*\n",
    "    \n",
    "  - *Group I: Patients received 50% nitrous oxide and 50% oxygen mixture continuously for 24 h.*\n",
    "  - *Group II: Patients received a 50% nitrous oxide and 50% oxygen mixture only dirng the operation.*\n",
    "  - *Group III: Patients received no nitrous oxide but received 35-50% oxygen for 24 h.*\n",
    "    \n",
    "*The data show red cell folate levels for the three groups after 24h' ventilation.*"
   ]
  },
  {
   "cell_type": "code",
   "execution_count": 6,
   "metadata": {
    "slideshow": {
     "slide_type": "fragment"
    }
   },
   "outputs": [],
   "source": [
    "# Get the data\n",
    "inFile = 'altman_910.txt'\n",
    "url_base = 'https://raw.githubusercontent.com/thomas-haslwanter/statsintro_python/master/ipynb/Data/data_altman/'\n",
    "\n",
    "url = url_base + inFile\n",
    "data = genfromtxt(urllib.request.urlopen(url), delimiter=',')\n",
    "\n",
    "# Sort them into groups, according to column 1\n",
    "group1 = data[data[:,1]==1,0] # finally got it ! tricky enough\n",
    "group2 = data[data[:,1]==2,0]\n",
    "group3 = data[data[:,1]==3,0]"
   ]
  },
  {
   "cell_type": "code",
   "execution_count": 11,
   "metadata": {},
   "outputs": [
    {
     "data": {
      "text/plain": [
       "array([[243.,   1.],\n",
       "       [251.,   1.],\n",
       "       [275.,   1.],\n",
       "       [291.,   1.],\n",
       "       [347.,   1.],\n",
       "       [354.,   1.],\n",
       "       [380.,   1.],\n",
       "       [392.,   1.],\n",
       "       [206.,   2.],\n",
       "       [210.,   2.],\n",
       "       [226.,   2.],\n",
       "       [249.,   2.],\n",
       "       [255.,   2.],\n",
       "       [273.,   2.],\n",
       "       [285.,   2.],\n",
       "       [295.,   2.],\n",
       "       [309.,   2.],\n",
       "       [241.,   3.],\n",
       "       [258.,   3.],\n",
       "       [270.,   3.],\n",
       "       [293.,   3.],\n",
       "       [328.,   3.]])"
      ]
     },
     "execution_count": 11,
     "metadata": {},
     "output_type": "execute_result"
    }
   ],
   "source": [
    "data"
   ]
  },
  {
   "cell_type": "code",
   "execution_count": 12,
   "metadata": {},
   "outputs": [
    {
     "data": {
      "text/plain": [
       "array([1., 1., 1., 1., 1., 1., 1., 1., 2., 2., 2., 2., 2., 2., 2., 2., 2.,\n",
       "       3., 3., 3., 3., 3.])"
      ]
     },
     "execution_count": 12,
     "metadata": {},
     "output_type": "execute_result"
    }
   ],
   "source": [
    "data[:, 1]"
   ]
  },
  {
   "cell_type": "code",
   "execution_count": 15,
   "metadata": {},
   "outputs": [
    {
     "data": {
      "text/plain": [
       "array([243.,   1.])"
      ]
     },
     "execution_count": 15,
     "metadata": {},
     "output_type": "execute_result"
    }
   ],
   "source": [
    "data[0, : ]"
   ]
  },
  {
   "cell_type": "code",
   "execution_count": 16,
   "metadata": {},
   "outputs": [
    {
     "data": {
      "text/plain": [
       "array([243., 251., 275., 291., 347., 354., 380., 392., 206., 210., 226.,\n",
       "       249., 255., 273., 285., 295., 309., 241., 258., 270., 293., 328.])"
      ]
     },
     "execution_count": 16,
     "metadata": {},
     "output_type": "execute_result"
    }
   ],
   "source": [
    "data[ :, 0]"
   ]
  },
  {
   "cell_type": "code",
   "execution_count": 17,
   "metadata": {},
   "outputs": [
    {
     "data": {
      "text/plain": [
       "array([243., 251., 275., 291., 347., 354., 380., 392.])"
      ]
     },
     "execution_count": 17,
     "metadata": {},
     "output_type": "execute_result"
    }
   ],
   "source": [
    "group1"
   ]
  },
  {
   "cell_type": "markdown",
   "metadata": {
    "slideshow": {
     "slide_type": "subslide"
    }
   },
   "source": [
    "### Levene-test\n",
    "A Levene-test and/or a normality test should be made before applying a oneway ANOVA."
   ]
  },
  {
   "cell_type": "code",
   "execution_count": 7,
   "metadata": {
    "slideshow": {
     "slide_type": "fragment"
    }
   },
   "outputs": [
    {
     "name": "stdout",
     "output_type": "stream",
     "text": [
      "Warning: the p-value of the Levene test is <0.05: p=0.045846812634186246\n"
     ]
    }
   ],
   "source": [
    "# check if the variances are equal with the \"Levene\"-test\n",
    "(W,p) = stats.levene(group1, group2, group3)\n",
    "if p<0.05:\n",
    "    print('Warning: the p-value of the Levene test is <0.05: p={0}'.format(p))"
   ]
  },
  {
   "cell_type": "markdown",
   "metadata": {
    "slideshow": {
     "slide_type": "subslide"
    }
   },
   "source": [
    "### One-way ANOVA"
   ]
  },
  {
   "cell_type": "code",
   "execution_count": 18,
   "metadata": {
    "slideshow": {
     "slide_type": "fragment"
    }
   },
   "outputs": [
    {
     "name": "stdout",
     "output_type": "stream",
     "text": [
      "The results from the one-way ANOVA, with the data from Altman 910: F=3.7, p=0.04359\n",
      "One of the groups is significantly different.\n"
     ]
    }
   ],
   "source": [
    "F_statistic, pVal = stats.f_oneway(group1, group2, group3)\n",
    "\n",
    "print('The results from the one-way ANOVA, with the data from Altman 910: F={0:.1f}, p={1:.5f}'.format(F_statistic, pVal))\n",
    "if pVal < 0.05:\n",
    "    print('One of the groups is significantly different.')"
   ]
  },
  {
   "cell_type": "markdown",
   "metadata": {
    "slideshow": {
     "slide_type": "subslide"
    }
   },
   "source": [
    "## Elegant alternative implementation, with pandas & statsmodels"
   ]
  },
  {
   "cell_type": "code",
   "execution_count": 19,
   "metadata": {
    "slideshow": {
     "slide_type": "fragment"
    }
   },
   "outputs": [
    {
     "name": "stdout",
     "output_type": "stream",
     "text": [
      "                df        sum_sq      mean_sq         F    PR(>F)\n",
      "C(treatment)   2.0  15515.766414  7757.883207  3.711336  0.043589\n",
      "Residual      19.0  39716.097222  2090.320906       NaN       NaN\n"
     ]
    }
   ],
   "source": [
    "df = pd.DataFrame(data, columns=['value', 'treatment'])    \n",
    "\n",
    "# the \"C\" indicates categorical data\n",
    "model = ols('value ~ C(treatment)', df).fit()\n",
    "\n",
    "print(anova_lm(model))"
   ]
  },
  {
   "cell_type": "code",
   "execution_count": 22,
   "metadata": {},
   "outputs": [
    {
     "data": {
      "text/html": [
       "<div>\n",
       "<style scoped>\n",
       "    .dataframe tbody tr th:only-of-type {\n",
       "        vertical-align: middle;\n",
       "    }\n",
       "\n",
       "    .dataframe tbody tr th {\n",
       "        vertical-align: top;\n",
       "    }\n",
       "\n",
       "    .dataframe thead th {\n",
       "        text-align: right;\n",
       "    }\n",
       "</style>\n",
       "<table border=\"1\" class=\"dataframe\">\n",
       "  <thead>\n",
       "    <tr style=\"text-align: right;\">\n",
       "      <th></th>\n",
       "      <th>value</th>\n",
       "      <th>treatment</th>\n",
       "    </tr>\n",
       "  </thead>\n",
       "  <tbody>\n",
       "    <tr>\n",
       "      <th>0</th>\n",
       "      <td>243.0</td>\n",
       "      <td>1.0</td>\n",
       "    </tr>\n",
       "    <tr>\n",
       "      <th>1</th>\n",
       "      <td>251.0</td>\n",
       "      <td>1.0</td>\n",
       "    </tr>\n",
       "    <tr>\n",
       "      <th>2</th>\n",
       "      <td>275.0</td>\n",
       "      <td>1.0</td>\n",
       "    </tr>\n",
       "    <tr>\n",
       "      <th>3</th>\n",
       "      <td>291.0</td>\n",
       "      <td>1.0</td>\n",
       "    </tr>\n",
       "    <tr>\n",
       "      <th>4</th>\n",
       "      <td>347.0</td>\n",
       "      <td>1.0</td>\n",
       "    </tr>\n",
       "  </tbody>\n",
       "</table>\n",
       "</div>"
      ],
      "text/plain": [
       "   value  treatment\n",
       "0  243.0        1.0\n",
       "1  251.0        1.0\n",
       "2  275.0        1.0\n",
       "3  291.0        1.0\n",
       "4  347.0        1.0"
      ]
     },
     "execution_count": 22,
     "metadata": {},
     "output_type": "execute_result"
    }
   ],
   "source": [
    "df.head()"
   ]
  }
 ],
 "metadata": {
  "celltoolbar": "Slideshow",
  "kernelspec": {
   "display_name": "Python 3",
   "language": "python",
   "name": "python3"
  },
  "language_info": {
   "codemirror_mode": {
    "name": "ipython",
    "version": 3
   },
   "file_extension": ".py",
   "mimetype": "text/x-python",
   "name": "python",
   "nbconvert_exporter": "python",
   "pygments_lexer": "ipython3",
   "version": "3.5.5"
  }
 },
 "nbformat": 4,
 "nbformat_minor": 1
}
