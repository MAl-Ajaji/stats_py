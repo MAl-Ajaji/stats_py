{
 "cells": [
  {
   "cell_type": "code",
   "execution_count": 1,
   "metadata": {},
   "outputs": [],
   "source": [
    "# Chapter 7 solving caculus problems"
   ]
  },
  {
   "cell_type": "code",
   "execution_count": 1,
   "metadata": {},
   "outputs": [
    {
     "data": {
      "text/plain": [
       "1.0"
      ]
     },
     "execution_count": 1,
     "metadata": {},
     "output_type": "execute_result"
    }
   ],
   "source": [
    "import math\n",
    "math.sin(math.pi/2)"
   ]
  },
  {
   "cell_type": "code",
   "execution_count": 2,
   "metadata": {},
   "outputs": [
    {
     "data": {
      "text/latex": [
       "$\\displaystyle 1.0$"
      ],
      "text/plain": [
       "1.00000000000000"
      ]
     },
     "execution_count": 2,
     "metadata": {},
     "output_type": "execute_result"
    }
   ],
   "source": [
    "import sympy\n",
    "sympy.sin(math.pi/2)"
   ]
  },
  {
   "cell_type": "code",
   "execution_count": 3,
   "metadata": {},
   "outputs": [
    {
     "ename": "TypeError",
     "evalue": "can't convert expression to float",
     "output_type": "error",
     "traceback": [
      "\u001b[1;31m---------------------------------------------------------------------------\u001b[0m",
      "\u001b[1;31mTypeError\u001b[0m                                 Traceback (most recent call last)",
      "\u001b[1;32m<ipython-input-3-4650282851eb>\u001b[0m in \u001b[0;36m<module>\u001b[1;34m()\u001b[0m\n\u001b[0;32m      1\u001b[0m \u001b[1;32mfrom\u001b[0m \u001b[0msympy\u001b[0m \u001b[1;32mimport\u001b[0m \u001b[0mSymbol\u001b[0m\u001b[1;33m\u001b[0m\u001b[0m\n\u001b[0;32m      2\u001b[0m \u001b[0mtheta\u001b[0m \u001b[1;33m=\u001b[0m \u001b[0mSymbol\u001b[0m\u001b[1;33m(\u001b[0m\u001b[1;34m'theta'\u001b[0m\u001b[1;33m)\u001b[0m\u001b[1;33m\u001b[0m\u001b[0m\n\u001b[1;32m----> 3\u001b[1;33m \u001b[0mmath\u001b[0m\u001b[1;33m.\u001b[0m\u001b[0msin\u001b[0m\u001b[1;33m(\u001b[0m\u001b[0mtheta\u001b[0m\u001b[1;33m)\u001b[0m \u001b[1;33m+\u001b[0m \u001b[0mmath\u001b[0m\u001b[1;33m.\u001b[0m\u001b[0msin\u001b[0m\u001b[1;33m(\u001b[0m\u001b[0mtheta\u001b[0m\u001b[1;33m)\u001b[0m\u001b[1;33m\u001b[0m\u001b[0m\n\u001b[0m",
      "\u001b[1;32m~\\Anaconda3\\envs\\deeplearning\\lib\\site-packages\\sympy\\core\\expr.py\u001b[0m in \u001b[0;36m__float__\u001b[1;34m(self)\u001b[0m\n\u001b[0;32m    278\u001b[0m         \u001b[1;32mif\u001b[0m \u001b[0mresult\u001b[0m\u001b[1;33m.\u001b[0m\u001b[0mis_number\u001b[0m \u001b[1;32mand\u001b[0m \u001b[0mresult\u001b[0m\u001b[1;33m.\u001b[0m\u001b[0mas_real_imag\u001b[0m\u001b[1;33m(\u001b[0m\u001b[1;33m)\u001b[0m\u001b[1;33m[\u001b[0m\u001b[1;36m1\u001b[0m\u001b[1;33m]\u001b[0m\u001b[1;33m:\u001b[0m\u001b[1;33m\u001b[0m\u001b[0m\n\u001b[0;32m    279\u001b[0m             \u001b[1;32mraise\u001b[0m \u001b[0mTypeError\u001b[0m\u001b[1;33m(\u001b[0m\u001b[1;34m\"can't convert complex to float\"\u001b[0m\u001b[1;33m)\u001b[0m\u001b[1;33m\u001b[0m\u001b[0m\n\u001b[1;32m--> 280\u001b[1;33m         \u001b[1;32mraise\u001b[0m \u001b[0mTypeError\u001b[0m\u001b[1;33m(\u001b[0m\u001b[1;34m\"can't convert expression to float\"\u001b[0m\u001b[1;33m)\u001b[0m\u001b[1;33m\u001b[0m\u001b[0m\n\u001b[0m\u001b[0;32m    281\u001b[0m \u001b[1;33m\u001b[0m\u001b[0m\n\u001b[0;32m    282\u001b[0m     \u001b[1;32mdef\u001b[0m \u001b[0m__complex__\u001b[0m\u001b[1;33m(\u001b[0m\u001b[0mself\u001b[0m\u001b[1;33m)\u001b[0m\u001b[1;33m:\u001b[0m\u001b[1;33m\u001b[0m\u001b[0m\n",
      "\u001b[1;31mTypeError\u001b[0m: can't convert expression to float"
     ]
    }
   ],
   "source": [
    "from sympy import Symbol\n",
    "theta = Symbol('theta')\n",
    "math.sin(theta) + math.sin(theta)"
   ]
  },
  {
   "cell_type": "code",
   "execution_count": 4,
   "metadata": {},
   "outputs": [
    {
     "data": {
      "text/latex": [
       "$\\displaystyle 2 \\sin{\\left(\\theta \\right)}$"
      ],
      "text/plain": [
       "2*sin(theta)"
      ]
     },
     "execution_count": 4,
     "metadata": {},
     "output_type": "execute_result"
    }
   ],
   "source": [
    "sympy.sin(theta) + sympy.sin(theta)"
   ]
  },
  {
   "cell_type": "code",
   "execution_count": 5,
   "metadata": {},
   "outputs": [],
   "source": [
    "## assumptions in Sympy"
   ]
  },
  {
   "cell_type": "code",
   "execution_count": 6,
   "metadata": {},
   "outputs": [
    {
     "ename": "TypeError",
     "evalue": "cannot determine truth value of Relational",
     "output_type": "error",
     "traceback": [
      "\u001b[1;31m---------------------------------------------------------------------------\u001b[0m",
      "\u001b[1;31mTypeError\u001b[0m                                 Traceback (most recent call last)",
      "\u001b[1;32m<ipython-input-6-391e0b857b00>\u001b[0m in \u001b[0;36m<module>\u001b[1;34m()\u001b[0m\n\u001b[0;32m      1\u001b[0m \u001b[1;32mfrom\u001b[0m \u001b[0msympy\u001b[0m \u001b[1;32mimport\u001b[0m \u001b[0mSymbol\u001b[0m\u001b[1;33m\u001b[0m\u001b[0m\n\u001b[0;32m      2\u001b[0m \u001b[0mx\u001b[0m \u001b[1;33m=\u001b[0m \u001b[0mSymbol\u001b[0m\u001b[1;33m(\u001b[0m\u001b[1;34m'x'\u001b[0m\u001b[1;33m)\u001b[0m\u001b[1;33m\u001b[0m\u001b[0m\n\u001b[1;32m----> 3\u001b[1;33m \u001b[1;32mif\u001b[0m \u001b[1;33m(\u001b[0m\u001b[0mx\u001b[0m \u001b[1;33m+\u001b[0m \u001b[1;36m5\u001b[0m\u001b[1;33m)\u001b[0m \u001b[1;33m>\u001b[0m \u001b[1;36m0\u001b[0m\u001b[1;33m:\u001b[0m\u001b[1;33m\u001b[0m\u001b[0m\n\u001b[0m\u001b[0;32m      4\u001b[0m     \u001b[0mprint\u001b[0m\u001b[1;33m(\u001b[0m\u001b[1;34m'do something'\u001b[0m\u001b[1;33m)\u001b[0m\u001b[1;33m\u001b[0m\u001b[0m\n\u001b[0;32m      5\u001b[0m \u001b[1;32melse\u001b[0m\u001b[1;33m:\u001b[0m\u001b[1;33m\u001b[0m\u001b[0m\n",
      "\u001b[1;32m~\\Anaconda3\\envs\\deeplearning\\lib\\site-packages\\sympy\\core\\relational.py\u001b[0m in \u001b[0;36m__nonzero__\u001b[1;34m(self)\u001b[0m\n\u001b[0;32m    302\u001b[0m \u001b[1;33m\u001b[0m\u001b[0m\n\u001b[0;32m    303\u001b[0m     \u001b[1;32mdef\u001b[0m \u001b[0m__nonzero__\u001b[0m\u001b[1;33m(\u001b[0m\u001b[0mself\u001b[0m\u001b[1;33m)\u001b[0m\u001b[1;33m:\u001b[0m\u001b[1;33m\u001b[0m\u001b[0m\n\u001b[1;32m--> 304\u001b[1;33m         \u001b[1;32mraise\u001b[0m \u001b[0mTypeError\u001b[0m\u001b[1;33m(\u001b[0m\u001b[1;34m\"cannot determine truth value of Relational\"\u001b[0m\u001b[1;33m)\u001b[0m\u001b[1;33m\u001b[0m\u001b[0m\n\u001b[0m\u001b[0;32m    305\u001b[0m \u001b[1;33m\u001b[0m\u001b[0m\n\u001b[0;32m    306\u001b[0m     \u001b[0m__bool__\u001b[0m \u001b[1;33m=\u001b[0m \u001b[0m__nonzero__\u001b[0m\u001b[1;33m\u001b[0m\u001b[0m\n",
      "\u001b[1;31mTypeError\u001b[0m: cannot determine truth value of Relational"
     ]
    }
   ],
   "source": [
    "from sympy import Symbol\n",
    "x = Symbol('x')\n",
    "if (x + 5) > 0:\n",
    "    print('do something')\n",
    "else:\n",
    "    print('do something else')"
   ]
  },
  {
   "cell_type": "code",
   "execution_count": 7,
   "metadata": {},
   "outputs": [
    {
     "name": "stdout",
     "output_type": "stream",
     "text": [
      "do something\n"
     ]
    }
   ],
   "source": [
    "x = Symbol('x', positive = True)\n",
    "if (x + 5) > 0:\n",
    "    print('do something')\n",
    "else:\n",
    "    print('do something else')"
   ]
  },
  {
   "cell_type": "code",
   "execution_count": 8,
   "metadata": {},
   "outputs": [],
   "source": [
    "## finding the limits of functions"
   ]
  },
  {
   "cell_type": "code",
   "execution_count": 10,
   "metadata": {},
   "outputs": [
    {
     "data": {
      "text/latex": [
       "$\\displaystyle \\lim_{x \\to \\infty} \\frac{1}{x}$"
      ],
      "text/plain": [
       "Limit(1/x, x, oo, dir='-')"
      ]
     },
     "execution_count": 10,
     "metadata": {},
     "output_type": "execute_result"
    }
   ],
   "source": [
    "from sympy import Limit, Symbol, S\n",
    "x = Symbol('x')\n",
    "Limit(1/x, x, S.Infinity)"
   ]
  },
  {
   "cell_type": "code",
   "execution_count": 11,
   "metadata": {},
   "outputs": [
    {
     "data": {
      "text/latex": [
       "$\\displaystyle 0$"
      ],
      "text/plain": [
       "0"
      ]
     },
     "execution_count": 11,
     "metadata": {},
     "output_type": "execute_result"
    }
   ],
   "source": [
    "l = Limit(1/x, x, S.Infinity)\n",
    "l.doit()"
   ]
  },
  {
   "cell_type": "code",
   "execution_count": 12,
   "metadata": {},
   "outputs": [
    {
     "data": {
      "text/latex": [
       "$\\displaystyle -\\infty$"
      ],
      "text/plain": [
       "-oo"
      ]
     },
     "execution_count": 12,
     "metadata": {},
     "output_type": "execute_result"
    }
   ],
   "source": [
    "Limit(1/x, x, 0, dir='-').doit()"
   ]
  },
  {
   "cell_type": "code",
   "execution_count": 13,
   "metadata": {},
   "outputs": [
    {
     "data": {
      "text/latex": [
       "$\\displaystyle \\infty$"
      ],
      "text/plain": [
       "oo"
      ]
     },
     "execution_count": 13,
     "metadata": {},
     "output_type": "execute_result"
    }
   ],
   "source": [
    "Limit(1/x, x, 0, dir='+').doit()"
   ]
  },
  {
   "cell_type": "code",
   "execution_count": 14,
   "metadata": {},
   "outputs": [
    {
     "data": {
      "text/latex": [
       "$\\displaystyle 1$"
      ],
      "text/plain": [
       "1"
      ]
     },
     "execution_count": 14,
     "metadata": {},
     "output_type": "execute_result"
    }
   ],
   "source": [
    "from sympy import Symbol, sin\n",
    "Limit(sin(x)/x, x, 0).doit()"
   ]
  },
  {
   "cell_type": "code",
   "execution_count": 15,
   "metadata": {},
   "outputs": [],
   "source": [
    "## continuous compound interest"
   ]
  },
  {
   "cell_type": "code",
   "execution_count": 16,
   "metadata": {},
   "outputs": [
    {
     "data": {
      "text/latex": [
       "$\\displaystyle e$"
      ],
      "text/plain": [
       "E"
      ]
     },
     "execution_count": 16,
     "metadata": {},
     "output_type": "execute_result"
    }
   ],
   "source": [
    "from sympy import Limit, Symbol, S\n",
    "n = Symbol('n')\n",
    "Limit((1 + 1/n)**n, n, S.Infinity).doit()"
   ]
  },
  {
   "cell_type": "code",
   "execution_count": 17,
   "metadata": {},
   "outputs": [
    {
     "data": {
      "text/latex": [
       "$\\displaystyle p e^{r t}$"
      ],
      "text/plain": [
       "p*exp(r*t)"
      ]
     },
     "execution_count": 17,
     "metadata": {},
     "output_type": "execute_result"
    }
   ],
   "source": [
    "p = Symbol('p', positve = True)\n",
    "r = Symbol('r', positve = True)\n",
    "t = Symbol('t', positve = True)\n",
    "Limit(p * (1 + r/n)**(n*t), n, S.Infinity).doit()"
   ]
  },
  {
   "cell_type": "code",
   "execution_count": null,
   "metadata": {},
   "outputs": [],
   "source": [
    "## instantaneous rate of change"
   ]
  },
  {
   "cell_type": "code",
   "execution_count": 18,
   "metadata": {},
   "outputs": [
    {
     "data": {
      "text/latex": [
       "$\\displaystyle 10 t_{1} + 2$"
      ],
      "text/plain": [
       "10*t1 + 2"
      ]
     },
     "execution_count": 18,
     "metadata": {},
     "output_type": "execute_result"
    }
   ],
   "source": [
    "from sympy import Symbol, Limit\n",
    "t = Symbol('t')\n",
    "St = 5*t**2 + 2*t + 8\n",
    "\n",
    "t1 = Symbol('t1')\n",
    "delta_t = Symbol('delta_t')\n",
    "\n",
    "St1 = St.subs({t:t1})\n",
    "St1_delta = St.subs({t:t1 + delta_t})\n",
    "\n",
    "Limit((St1_delta - St1)/delta_t, delta_t, 0).doit()"
   ]
  },
  {
   "cell_type": "code",
   "execution_count": 19,
   "metadata": {},
   "outputs": [],
   "source": [
    "## finding derivative of functions "
   ]
  },
  {
   "cell_type": "code",
   "execution_count": 20,
   "metadata": {},
   "outputs": [
    {
     "data": {
      "text/latex": [
       "$\\displaystyle \\frac{d}{d t} \\left(5 t^{2} + 2 t + 8\\right)$"
      ],
      "text/plain": [
       "Derivative(5*t**2 + 2*t + 8, t)"
      ]
     },
     "execution_count": 20,
     "metadata": {},
     "output_type": "execute_result"
    }
   ],
   "source": [
    "from sympy import Symbol, Limit, Derivative\n",
    "t = Symbol('t')\n",
    "St = 5*t**2 + 2*t + 8\n",
    "Derivative(St, t)"
   ]
  },
  {
   "cell_type": "code",
   "execution_count": 21,
   "metadata": {},
   "outputs": [
    {
     "data": {
      "text/latex": [
       "$\\displaystyle 10 t + 2$"
      ],
      "text/plain": [
       "10*t + 2"
      ]
     },
     "execution_count": 21,
     "metadata": {},
     "output_type": "execute_result"
    }
   ],
   "source": [
    "d = Derivative(St, t)\n",
    "d.doit()"
   ]
  },
  {
   "cell_type": "code",
   "execution_count": 22,
   "metadata": {},
   "outputs": [
    {
     "data": {
      "text/latex": [
       "$\\displaystyle 10 t_{1} + 2$"
      ],
      "text/plain": [
       "10*t1 + 2"
      ]
     },
     "execution_count": 22,
     "metadata": {},
     "output_type": "execute_result"
    }
   ],
   "source": [
    "d.doit().subs({t:t1})"
   ]
  },
  {
   "cell_type": "code",
   "execution_count": 23,
   "metadata": {},
   "outputs": [
    {
     "data": {
      "text/latex": [
       "$\\displaystyle 12$"
      ],
      "text/plain": [
       "12"
      ]
     },
     "execution_count": 23,
     "metadata": {},
     "output_type": "execute_result"
    }
   ],
   "source": [
    "d.doit().subs({t:1})"
   ]
  },
  {
   "cell_type": "code",
   "execution_count": 24,
   "metadata": {},
   "outputs": [
    {
     "data": {
      "text/latex": [
       "$\\displaystyle \\left(2 x + 1\\right) \\left(x^{3} + x^{2} + x\\right) + \\left(x^{2} + x\\right) \\left(3 x^{2} + 2 x + 1\\right)$"
      ],
      "text/plain": [
       "(2*x + 1)*(x**3 + x**2 + x) + (x**2 + x)*(3*x**2 + 2*x + 1)"
      ]
     },
     "execution_count": 24,
     "metadata": {},
     "output_type": "execute_result"
    }
   ],
   "source": [
    "x = Symbol('x')\n",
    "f = (x**3 + x**2 + x)*(x**2 + x)\n",
    "Derivative(f, x).doit()"
   ]
  },
  {
   "cell_type": "code",
   "execution_count": 25,
   "metadata": {},
   "outputs": [],
   "source": [
    "## a derivative calculator"
   ]
  },
  {
   "cell_type": "code",
   "execution_count": 26,
   "metadata": {},
   "outputs": [],
   "source": [
    "\"\"\"\n",
    "Derivative calculator\n",
    "\"\"\"\n",
    "\n",
    "from sympy import Symbol, Derivative, sympify, pprint\n",
    "from sympy.core.sympify import SympifyError"
   ]
  },
  {
   "cell_type": "code",
   "execution_count": 27,
   "metadata": {},
   "outputs": [],
   "source": [
    "def derivative(f, var):\n",
    "    var = Symbol(var)\n",
    "    d = Derivative(f, var).doit()\n",
    "    pprint(d)"
   ]
  },
  {
   "cell_type": "code",
   "execution_count": 30,
   "metadata": {},
   "outputs": [
    {
     "name": "stdout",
     "output_type": "stream",
     "text": [
      "enter a functionx**3 + 2*x\n",
      "enter the varible to differentiate with respect to: x\n",
      "   2    \n",
      "3⋅x  + 2\n"
     ]
    }
   ],
   "source": [
    "if __name__ == '__main__':\n",
    "    f = input('enter a function')\n",
    "    var = input('enter the varible to differentiate with respect to: ')\n",
    "    try:\n",
    "        f = sympify(f)\n",
    "    except SympifyError:\n",
    "        print('invalid input')\n",
    "    else:\n",
    "        derivative(f, var)"
   ]
  },
  {
   "cell_type": "code",
   "execution_count": 31,
   "metadata": {},
   "outputs": [],
   "source": [
    "## calculating partial derivatives"
   ]
  },
  {
   "cell_type": "code",
   "execution_count": 32,
   "metadata": {},
   "outputs": [
    {
     "name": "stdout",
     "output_type": "stream",
     "text": [
      "enter a functionx**3 + x*y**2 + 9\n",
      "enter the varible to differentiate with respect to: x\n",
      "   2    2\n",
      "3⋅x  + y \n"
     ]
    }
   ],
   "source": [
    "if __name__ == '__main__':\n",
    "    f = input('enter a function')\n",
    "    var = input('enter the varible to differentiate with respect to: ')\n",
    "    try:\n",
    "        f = sympify(f)\n",
    "    except SympifyError:\n",
    "        print('invalid input')\n",
    "    else:\n",
    "        derivative(f, var)"
   ]
  },
  {
   "cell_type": "code",
   "execution_count": 33,
   "metadata": {},
   "outputs": [],
   "source": [
    "## higher order derivatives and finding the maxima and minima"
   ]
  },
  {
   "cell_type": "code",
   "execution_count": 34,
   "metadata": {},
   "outputs": [],
   "source": [
    "from sympy import Symbol, solve, Derivative\n",
    "x = Symbol('x')\n",
    "f = x**5 + 30*x**3 + 50*x\n",
    "d1 = Derivative(f, x).doit()"
   ]
  },
  {
   "cell_type": "code",
   "execution_count": 35,
   "metadata": {},
   "outputs": [
    {
     "data": {
      "text/plain": [
       "[-I*sqrt(9 - sqrt(71)),\n",
       " I*sqrt(9 - sqrt(71)),\n",
       " -I*sqrt(sqrt(71) + 9),\n",
       " I*sqrt(sqrt(71) + 9)]"
      ]
     },
     "execution_count": 35,
     "metadata": {},
     "output_type": "execute_result"
    }
   ],
   "source": [
    "critical_points = solve(d1)\n",
    "critical_points"
   ]
  },
  {
   "cell_type": "code",
   "execution_count": 36,
   "metadata": {},
   "outputs": [],
   "source": [
    "A = critical_points[2]\n",
    "B = critical_points[0]\n",
    "C = critical_points[1]\n",
    "D = critical_points[3]"
   ]
  },
  {
   "cell_type": "code",
   "execution_count": 37,
   "metadata": {},
   "outputs": [],
   "source": [
    "d2 = Derivative(f, x, 2).doit()"
   ]
  },
  {
   "cell_type": "code",
   "execution_count": 38,
   "metadata": {},
   "outputs": [
    {
     "data": {
      "text/latex": [
       "$\\displaystyle - 127.661060789073 i$"
      ],
      "text/plain": [
       "-127.661060789073*I"
      ]
     },
     "execution_count": 38,
     "metadata": {},
     "output_type": "execute_result"
    }
   ],
   "source": [
    "d2.subs({x:B}).evalf()"
   ]
  },
  {
   "cell_type": "code",
   "execution_count": 39,
   "metadata": {},
   "outputs": [
    {
     "data": {
      "text/latex": [
       "$\\displaystyle 703.493179468151 i$"
      ],
      "text/plain": [
       "703.493179468151*I"
      ]
     },
     "execution_count": 39,
     "metadata": {},
     "output_type": "execute_result"
    }
   ],
   "source": [
    "d2.subs({x:A}).evalf()"
   ]
  },
  {
   "cell_type": "code",
   "execution_count": 40,
   "metadata": {},
   "outputs": [
    {
     "data": {
      "text/latex": [
       "$\\displaystyle 705.959460380365 i$"
      ],
      "text/plain": [
       "705.959460380365*I"
      ]
     },
     "execution_count": 40,
     "metadata": {},
     "output_type": "execute_result"
    }
   ],
   "source": [
    "x_min = -5\n",
    "x_max = 5\n",
    "f.subs({x:A}).evalf()"
   ]
  },
  {
   "cell_type": "code",
   "execution_count": 41,
   "metadata": {},
   "outputs": [
    {
     "data": {
      "text/latex": [
       "$\\displaystyle 7125.0$"
      ],
      "text/plain": [
       "7125.00000000000"
      ]
     },
     "execution_count": 41,
     "metadata": {},
     "output_type": "execute_result"
    }
   ],
   "source": [
    "f.subs({x:x_max}).evalf()"
   ]
  },
  {
   "cell_type": "code",
   "execution_count": 42,
   "metadata": {},
   "outputs": [],
   "source": [
    "## finding the global maximum using gradient ascent"
   ]
  },
  {
   "cell_type": "code",
   "execution_count": 47,
   "metadata": {},
   "outputs": [],
   "source": [
    "\"\"\"\n",
    "use gradient ascent to find the angle at which the projectile\n",
    "has maximum range for a fixed velocity, 25m/s\n",
    "\"\"\"\n",
    "\n",
    "import math\n",
    "from sympy import Derivative, Symbol, sin\n",
    "\n",
    "def grad_ascent(x0, f1x, x):\n",
    "    epsilon = 1e-6\n",
    "    step_size = 1e-4\n",
    "    x_old = x0\n",
    "    x_new = x_old + step_size * f1x.subs({x:x_old}).evalf()\n",
    "    while abs(x_old - x_new) > epsilon:\n",
    "        x_old = x_new\n",
    "        x_new = x_old + step_size*f1x.subs({x:x_old}).evalf()\n",
    "    return x_new\n",
    "\n",
    "def find_max_theta(R, theta):\n",
    "    # calculate the first derivative\n",
    "    R1theta = Derivative(R, theta).doit()\n",
    "    theta0 = 1e-3\n",
    "    theta_max = grad_ascent(theta0, R1theta, theta)\n",
    "    return theta_max"
   ]
  },
  {
   "cell_type": "code",
   "execution_count": 48,
   "metadata": {},
   "outputs": [
    {
     "name": "stdout",
     "output_type": "stream",
     "text": [
      "theta: 44.997815081691805\n",
      "maximum range: 63.7755100185965\n"
     ]
    }
   ],
   "source": [
    "if __name__ == \"__main__\":\n",
    "    \n",
    "    g = 9.8\n",
    "    # assume initital velocity\n",
    "    u = 25\n",
    "    # expression for range\n",
    "    theta = Symbol('theta')\n",
    "    R = u**2*sin(2*theta)/g\n",
    "    \n",
    "    theta_max = find_max_theta(R, theta)\n",
    "    print('theta: {0}'.format(math.degrees(theta_max)))\n",
    "    print('maximum range: {0}'.format(R.subs({theta:theta_max})))"
   ]
  },
  {
   "cell_type": "code",
   "execution_count": 49,
   "metadata": {},
   "outputs": [],
   "source": [
    "## a generic program for grddient ascent"
   ]
  },
  {
   "cell_type": "code",
   "execution_count": 50,
   "metadata": {},
   "outputs": [],
   "source": [
    "\"\"\"\n",
    "use gradient ascent to find the maximum value of a\n",
    "single-variable function\n",
    "\"\"\"\n",
    "\n",
    "import math\n",
    "from sympy import Derivative, Symbol, sympify\n",
    "\n",
    "def grad_ascent(x0, f1x, x):\n",
    "    epsilon = 1e-6\n",
    "    step_size = 1e-4\n",
    "    x_old = x0\n",
    "    x_new = x_old + step_size * f1x.subs({x:x_old}).evalf()\n",
    "    while abs(x_old - x_new) > epsilon:\n",
    "        x_old = x_new\n",
    "        x_new = x_old + step_size*f1x.subs({x:x_old}).evalf()\n",
    "    return x_new"
   ]
  },
  {
   "cell_type": "code",
   "execution_count": 53,
   "metadata": {},
   "outputs": [
    {
     "name": "stdout",
     "output_type": "stream",
     "text": [
      "enter a function in one variable: x**5 - 30*x**3 + 50*x\n",
      "eneter the variable to differentiate with respect to: x\n",
      "enerter the initial value of the variable: -2\n",
      "x:-4.17445116397103\n",
      "maximum value: 705.959460322318\n"
     ]
    }
   ],
   "source": [
    "if __name__ == \"__main__\":\n",
    "    \n",
    "    f = input('enter a function in one variable: ')\n",
    "    var = input('eneter the variable to differentiate with respect to: ')\n",
    "    var0 = float(input('enerter the initial value of the variable: '))\n",
    "    try:\n",
    "        f = sympify(f)\n",
    "    except SympifyError:\n",
    "        print('invalide function entered')\n",
    "    else:\n",
    "        var = Symbol(var)\n",
    "        d = Derivative(f, var).doit()\n",
    "        var_max = grad_ascent(var0, d, var)\n",
    "        print('{0}:{1}'.format(var.name, var_max))\n",
    "        print('maximum value: {0}'.format(f.subs({var:var_max})))"
   ]
  },
  {
   "cell_type": "code",
   "execution_count": 54,
   "metadata": {},
   "outputs": [],
   "source": [
    "## the rold of the step size and epsilon"
   ]
  },
  {
   "cell_type": "code",
   "execution_count": 55,
   "metadata": {},
   "outputs": [],
   "source": [
    "\"\"\"\n",
    "use gradient ascent to find the maximum value of a\n",
    "single-variable function. This also checks for the existence \n",
    "of a solution for the equation f'(x) = 0\n",
    "\"\"\"\n",
    "\n",
    "import math\n",
    "from sympy import Derivative, Symbol, sympify, solve\n",
    "\n",
    "def grad_ascent(x0, f1x, x):\n",
    "    # check if f1x = 0 = has a solution\n",
    "    if not solve(f1x):\n",
    "        print('cannot continue, solution for {0}=0 does not exist'.format(f1x))\n",
    "        return\n",
    "    epsilon = 1e-6\n",
    "    step_size = 1e-4\n",
    "    x_old = x0\n",
    "    x_new = x_old + step_size * f1x.subs({x:x_old}).evalf()\n",
    "    while abs(x_old - x_new) > epsilon:\n",
    "        x_old = x_new\n",
    "        x_new = x_old + step_size*f1x.subs({x:x_old}).evalf()\n",
    "    return x_new"
   ]
  },
  {
   "cell_type": "code",
   "execution_count": 60,
   "metadata": {},
   "outputs": [
    {
     "name": "stdout",
     "output_type": "stream",
     "text": [
      "enter a function in one variable: sin(x)\n",
      "eneter the variable to differentiate with respect to: x\n",
      "enerter the initial value of the variable: 0.1\n",
      "x:1.56079720741685\n",
      "maximum value: 0.999950009222350\n"
     ]
    }
   ],
   "source": [
    "if __name__ == \"__main__\":\n",
    "    \n",
    "    f = input('enter a function in one variable: ')\n",
    "    var = input('eneter the variable to differentiate with respect to: ')\n",
    "    var0 = float(input('enerter the initial value of the variable: '))\n",
    "    try:\n",
    "        f = sympify(f)\n",
    "    except SympifyError:\n",
    "        print('invalide function entered')\n",
    "    else:\n",
    "        var = Symbol(var)\n",
    "        d = Derivative(f, var).doit()\n",
    "        var_max = grad_ascent(var0, d, var)\n",
    "        print('{0}:{1}'.format(var.name, var_max))\n",
    "        print('maximum value: {0}'.format(f.subs({var:var_max})))"
   ]
  },
  {
   "cell_type": "code",
   "execution_count": null,
   "metadata": {},
   "outputs": [],
   "source": [
    "## finding the integrals of functions"
   ]
  },
  {
   "cell_type": "code",
   "execution_count": 61,
   "metadata": {},
   "outputs": [
    {
     "data": {
      "text/latex": [
       "$\\displaystyle \\int k x\\, dx$"
      ],
      "text/plain": [
       "Integral(k*x, x)"
      ]
     },
     "execution_count": 61,
     "metadata": {},
     "output_type": "execute_result"
    }
   ],
   "source": [
    "from sympy import Integral, Symbol\n",
    "x = Symbol('x')\n",
    "k = Symbol('k')\n",
    "Integral(k*x, x)"
   ]
  },
  {
   "cell_type": "code",
   "execution_count": 62,
   "metadata": {},
   "outputs": [
    {
     "data": {
      "text/latex": [
       "$\\displaystyle \\frac{k x^{2}}{2}$"
      ],
      "text/plain": [
       "k*x**2/2"
      ]
     },
     "execution_count": 62,
     "metadata": {},
     "output_type": "execute_result"
    }
   ],
   "source": [
    "Integral(k*x, x).doit()"
   ]
  },
  {
   "cell_type": "code",
   "execution_count": 63,
   "metadata": {},
   "outputs": [
    {
     "data": {
      "text/latex": [
       "$\\displaystyle 2 k$"
      ],
      "text/plain": [
       "2*k"
      ]
     },
     "execution_count": 63,
     "metadata": {},
     "output_type": "execute_result"
    }
   ],
   "source": [
    "Integral(k*x, (x, 0, 2)).doit()"
   ]
  },
  {
   "cell_type": "code",
   "execution_count": 64,
   "metadata": {},
   "outputs": [
    {
     "data": {
      "text/latex": [
       "$\\displaystyle 6$"
      ],
      "text/plain": [
       "6"
      ]
     },
     "execution_count": 64,
     "metadata": {},
     "output_type": "execute_result"
    }
   ],
   "source": [
    "Integral(x, (x, 2, 4)).doit()"
   ]
  },
  {
   "cell_type": "code",
   "execution_count": 65,
   "metadata": {},
   "outputs": [],
   "source": [
    "## probability density functions"
   ]
  },
  {
   "cell_type": "code",
   "execution_count": 67,
   "metadata": {},
   "outputs": [
    {
     "data": {
      "text/latex": [
       "$\\displaystyle 0.135905121983278$"
      ],
      "text/plain": [
       "0.135905121983278"
      ]
     },
     "execution_count": 67,
     "metadata": {},
     "output_type": "execute_result"
    }
   ],
   "source": [
    "from sympy import Symbol, exp, sqrt, pi, Integral\n",
    "x = Symbol('x')\n",
    "p = exp(-(x - 10)**2/2)/sqrt(2*pi)\n",
    "Integral(p, (x, 11, 12)).doit().evalf()"
   ]
  },
  {
   "cell_type": "code",
   "execution_count": 68,
   "metadata": {},
   "outputs": [
    {
     "data": {
      "text/latex": [
       "$\\displaystyle 1.0$"
      ],
      "text/plain": [
       "1.00000000000000"
      ]
     },
     "execution_count": 68,
     "metadata": {},
     "output_type": "execute_result"
    }
   ],
   "source": [
    "from sympy import Symbol, exp, sqrt, pi, Integral, S\n",
    "x = Symbol('x')\n",
    "p = exp(-(x - 10)**2/2)/sqrt(2*pi)\n",
    "Integral(p, (x, S.NegativeInfinity, S.Infinity)).doit().evalf()"
   ]
  },
  {
   "cell_type": "code",
   "execution_count": null,
   "metadata": {},
   "outputs": [],
   "source": [
    "# ref : doing math with python"
   ]
  }
 ],
 "metadata": {
  "kernelspec": {
   "display_name": "Python 3",
   "language": "python",
   "name": "python3"
  },
  "language_info": {
   "codemirror_mode": {
    "name": "ipython",
    "version": 3
   },
   "file_extension": ".py",
   "mimetype": "text/x-python",
   "name": "python",
   "nbconvert_exporter": "python",
   "pygments_lexer": "ipython3",
   "version": "3.6.5"
  }
 },
 "nbformat": 4,
 "nbformat_minor": 2
}
