{
 "cells": [
  {
   "cell_type": "code",
   "execution_count": 1,
   "metadata": {},
   "outputs": [],
   "source": [
    "# load lib and data"
   ]
  },
  {
   "cell_type": "code",
   "execution_count": 2,
   "metadata": {},
   "outputs": [],
   "source": [
    "import statsmodels.api as sm\n",
    "data = sm.datasets.scotland.load()"
   ]
  },
  {
   "cell_type": "code",
   "execution_count": 8,
   "metadata": {},
   "outputs": [
    {
     "name": "stdout",
     "output_type": "stream",
     "text": [
      "::\n",
      "\n",
      "    Number of Observations - 32 (1 for each Scottish district)\n",
      "\n",
      "    Number of Variables - 8\n",
      "\n",
      "    Variable name definitions::\n",
      "\n",
      "        YES    - Proportion voting yes to granting taxation powers to the\n",
      "                 Scottish parliament.\n",
      "        COUTAX - Amount of council tax collected in pounds steling as of\n",
      "                 April '97\n",
      "        UNEMPF - Female percentage of total unemployment benefits claims as of\n",
      "                January 1998\n",
      "        MOR    - The standardized mortality rate (UK is 100)\n",
      "        ACT    - Labor force participation (Short for active)\n",
      "        GDP    - GDP per county\n",
      "        AGE    - Percentage of children aged 5 to 15 in the county\n",
      "        COUTAX_FEMALEUNEMP - Interaction between COUTAX and UNEMPF\n",
      "\n",
      "    Council district names are included in the data file, though are not\n",
      "    returned by load.\n",
      "\n"
     ]
    }
   ],
   "source": [
    "# explore the data\n",
    "print(sm.datasets.scotland.NOTE)"
   ]
  },
  {
   "cell_type": "code",
   "execution_count": 16,
   "metadata": {},
   "outputs": [
    {
     "name": "stdout",
     "output_type": "stream",
     "text": [
      "[60.3 52.3 53.4 57.  68.7]\n"
     ]
    }
   ],
   "source": [
    "data.exog = sm.add_constant(data.exog)\n",
    "print(data.endog[:5])"
   ]
  },
  {
   "cell_type": "code",
   "execution_count": 14,
   "metadata": {},
   "outputs": [
    {
     "name": "stdout",
     "output_type": "stream",
     "text": [
      "[[1.00000e+00 7.12000e+02 2.10000e+01 1.05000e+02 8.24000e+01 1.35660e+04\n",
      "  1.23000e+01 1.49520e+04]\n",
      " [1.00000e+00 6.43000e+02 2.65000e+01 9.70000e+01 8.02000e+01 1.35660e+04\n",
      "  1.53000e+01 1.70395e+04]]\n"
     ]
    }
   ],
   "source": [
    "print(data.exog[:2, :])"
   ]
  },
  {
   "cell_type": "code",
   "execution_count": 5,
   "metadata": {},
   "outputs": [],
   "source": [
    "# Instantiate a gamma family model with the default link function."
   ]
  },
  {
   "cell_type": "code",
   "execution_count": 6,
   "metadata": {},
   "outputs": [
    {
     "name": "stderr",
     "output_type": "stream",
     "text": [
      "C:\\Users\\kxi110617\\AppData\\Local\\conda\\conda\\envs\\deeplearning\\lib\\site-packages\\statsmodels\\genmod\\generalized_linear_model.py:302: DomainWarning: The inverse_power link function does not respect the domain of the Gamma family.\n",
      "  DomainWarning)\n"
     ]
    },
    {
     "name": "stdout",
     "output_type": "stream",
     "text": [
      "                 Generalized Linear Model Regression Results                  \n",
      "==============================================================================\n",
      "Dep. Variable:                      y   No. Observations:                   32\n",
      "Model:                            GLM   Df Residuals:                       24\n",
      "Model Family:                   Gamma   Df Model:                            7\n",
      "Link Function:          inverse_power   Scale:                       0.0035843\n",
      "Method:                          IRLS   Log-Likelihood:                -83.017\n",
      "Date:                Thu, 14 Feb 2019   Deviance:                     0.087389\n",
      "Time:                        11:05:27   Pearson chi2:                   0.0860\n",
      "No. Iterations:                     6   Covariance Type:             nonrobust\n",
      "==============================================================================\n",
      "                 coef    std err          z      P>|z|      [0.025      0.975]\n",
      "------------------------------------------------------------------------------\n",
      "const         -0.0178      0.011     -1.548      0.122      -0.040       0.005\n",
      "x1          4.962e-05   1.62e-05      3.060      0.002    1.78e-05    8.14e-05\n",
      "x2             0.0020      0.001      3.824      0.000       0.001       0.003\n",
      "x3         -7.181e-05   2.71e-05     -2.648      0.008      -0.000   -1.87e-05\n",
      "x4             0.0001   4.06e-05      2.757      0.006    3.23e-05       0.000\n",
      "x5         -1.468e-07   1.24e-07     -1.187      0.235   -3.89e-07    9.56e-08\n",
      "x6            -0.0005      0.000     -2.159      0.031      -0.001   -4.78e-05\n",
      "x7         -2.427e-06   7.46e-07     -3.253      0.001   -3.89e-06   -9.65e-07\n",
      "==============================================================================\n"
     ]
    }
   ],
   "source": [
    "gamma_model = sm.GLM(data.endog, data.exog, family = sm.families.Gamma())\n",
    "gamma_results = gamma_model.fit()\n",
    "\n",
    "print(gamma_results.summary())"
   ]
  },
  {
   "cell_type": "code",
   "execution_count": null,
   "metadata": {},
   "outputs": [],
   "source": [
    "# https://www.statsmodels.org/stable/glm.html"
   ]
  }
 ],
 "metadata": {
  "kernelspec": {
   "display_name": "Python 3",
   "language": "python",
   "name": "python3"
  },
  "language_info": {
   "codemirror_mode": {
    "name": "ipython",
    "version": 3
   },
   "file_extension": ".py",
   "mimetype": "text/x-python",
   "name": "python",
   "nbconvert_exporter": "python",
   "pygments_lexer": "ipython3",
   "version": "3.5.5"
  }
 },
 "nbformat": 4,
 "nbformat_minor": 2
}
