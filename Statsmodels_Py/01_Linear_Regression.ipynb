{
 "cells": [
  {
   "cell_type": "code",
   "execution_count": 1,
   "metadata": {},
   "outputs": [],
   "source": [
    "# load libraries and data"
   ]
  },
  {
   "cell_type": "code",
   "execution_count": 2,
   "metadata": {},
   "outputs": [],
   "source": [
    "import numpy as np\n",
    "import statsmodels.api as sm"
   ]
  },
  {
   "cell_type": "code",
   "execution_count": 3,
   "metadata": {},
   "outputs": [],
   "source": [
    "spector_data = sm.datasets.spector.load()"
   ]
  },
  {
   "cell_type": "code",
   "execution_count": 8,
   "metadata": {},
   "outputs": [
    {
     "data": {
      "text/plain": [
       "array([[ 2.66, 20.  ,  0.  ],\n",
       "       [ 2.89, 22.  ,  0.  ],\n",
       "       [ 3.28, 24.  ,  0.  ],\n",
       "       [ 2.92, 12.  ,  0.  ],\n",
       "       [ 4.  , 21.  ,  0.  ],\n",
       "       [ 2.86, 17.  ,  0.  ],\n",
       "       [ 2.76, 17.  ,  0.  ],\n",
       "       [ 2.87, 21.  ,  0.  ],\n",
       "       [ 3.03, 25.  ,  0.  ],\n",
       "       [ 3.92, 29.  ,  0.  ],\n",
       "       [ 2.63, 20.  ,  0.  ],\n",
       "       [ 3.32, 23.  ,  0.  ],\n",
       "       [ 3.57, 23.  ,  0.  ],\n",
       "       [ 3.26, 25.  ,  0.  ],\n",
       "       [ 3.53, 26.  ,  0.  ],\n",
       "       [ 2.74, 19.  ,  0.  ],\n",
       "       [ 2.75, 25.  ,  0.  ],\n",
       "       [ 2.83, 19.  ,  0.  ],\n",
       "       [ 3.12, 23.  ,  1.  ],\n",
       "       [ 3.16, 25.  ,  1.  ],\n",
       "       [ 2.06, 22.  ,  1.  ],\n",
       "       [ 3.62, 28.  ,  1.  ],\n",
       "       [ 2.89, 14.  ,  1.  ],\n",
       "       [ 3.51, 26.  ,  1.  ],\n",
       "       [ 3.54, 24.  ,  1.  ],\n",
       "       [ 2.83, 27.  ,  1.  ],\n",
       "       [ 3.39, 17.  ,  1.  ],\n",
       "       [ 2.67, 24.  ,  1.  ],\n",
       "       [ 3.65, 21.  ,  1.  ],\n",
       "       [ 4.  , 23.  ,  1.  ],\n",
       "       [ 3.1 , 21.  ,  1.  ],\n",
       "       [ 2.39, 19.  ,  1.  ]])"
      ]
     },
     "execution_count": 8,
     "metadata": {},
     "output_type": "execute_result"
    }
   ],
   "source": [
    "spector_data.exog"
   ]
  },
  {
   "cell_type": "code",
   "execution_count": 9,
   "metadata": {},
   "outputs": [],
   "source": [
    "spector_data.exog = sm.add_constant(spector_data.exog, prepend = False)"
   ]
  },
  {
   "cell_type": "code",
   "execution_count": 10,
   "metadata": {},
   "outputs": [
    {
     "data": {
      "text/plain": [
       "array([[ 2.66, 20.  ,  0.  ,  1.  ],\n",
       "       [ 2.89, 22.  ,  0.  ,  1.  ],\n",
       "       [ 3.28, 24.  ,  0.  ,  1.  ],\n",
       "       [ 2.92, 12.  ,  0.  ,  1.  ],\n",
       "       [ 4.  , 21.  ,  0.  ,  1.  ],\n",
       "       [ 2.86, 17.  ,  0.  ,  1.  ],\n",
       "       [ 2.76, 17.  ,  0.  ,  1.  ],\n",
       "       [ 2.87, 21.  ,  0.  ,  1.  ],\n",
       "       [ 3.03, 25.  ,  0.  ,  1.  ],\n",
       "       [ 3.92, 29.  ,  0.  ,  1.  ],\n",
       "       [ 2.63, 20.  ,  0.  ,  1.  ],\n",
       "       [ 3.32, 23.  ,  0.  ,  1.  ],\n",
       "       [ 3.57, 23.  ,  0.  ,  1.  ],\n",
       "       [ 3.26, 25.  ,  0.  ,  1.  ],\n",
       "       [ 3.53, 26.  ,  0.  ,  1.  ],\n",
       "       [ 2.74, 19.  ,  0.  ,  1.  ],\n",
       "       [ 2.75, 25.  ,  0.  ,  1.  ],\n",
       "       [ 2.83, 19.  ,  0.  ,  1.  ],\n",
       "       [ 3.12, 23.  ,  1.  ,  1.  ],\n",
       "       [ 3.16, 25.  ,  1.  ,  1.  ],\n",
       "       [ 2.06, 22.  ,  1.  ,  1.  ],\n",
       "       [ 3.62, 28.  ,  1.  ,  1.  ],\n",
       "       [ 2.89, 14.  ,  1.  ,  1.  ],\n",
       "       [ 3.51, 26.  ,  1.  ,  1.  ],\n",
       "       [ 3.54, 24.  ,  1.  ,  1.  ],\n",
       "       [ 2.83, 27.  ,  1.  ,  1.  ],\n",
       "       [ 3.39, 17.  ,  1.  ,  1.  ],\n",
       "       [ 2.67, 24.  ,  1.  ,  1.  ],\n",
       "       [ 3.65, 21.  ,  1.  ,  1.  ],\n",
       "       [ 4.  , 23.  ,  1.  ,  1.  ],\n",
       "       [ 3.1 , 21.  ,  1.  ,  1.  ],\n",
       "       [ 2.39, 19.  ,  1.  ,  1.  ]])"
      ]
     },
     "execution_count": 10,
     "metadata": {},
     "output_type": "execute_result"
    }
   ],
   "source": [
    "spector_data.exog"
   ]
  },
  {
   "cell_type": "code",
   "execution_count": 12,
   "metadata": {},
   "outputs": [
    {
     "data": {
      "text/plain": [
       "array([0., 0., 0., 0., 1., 0., 0., 0., 0., 1., 0., 0., 0., 1., 0., 0., 0.,\n",
       "       0., 0., 1., 0., 1., 0., 0., 1., 1., 1., 0., 1., 1., 0., 1.])"
      ]
     },
     "execution_count": 12,
     "metadata": {},
     "output_type": "execute_result"
    }
   ],
   "source": [
    "spector_data.endog"
   ]
  },
  {
   "cell_type": "code",
   "execution_count": 11,
   "metadata": {},
   "outputs": [],
   "source": [
    "# fit model"
   ]
  },
  {
   "cell_type": "code",
   "execution_count": 13,
   "metadata": {},
   "outputs": [],
   "source": [
    "mod = sm.OLS(spector_data.endog, spector_data.exog)"
   ]
  },
  {
   "cell_type": "code",
   "execution_count": 14,
   "metadata": {},
   "outputs": [],
   "source": [
    "res = mod.fit()"
   ]
  },
  {
   "cell_type": "code",
   "execution_count": 15,
   "metadata": {},
   "outputs": [
    {
     "name": "stdout",
     "output_type": "stream",
     "text": [
      "                            OLS Regression Results                            \n",
      "==============================================================================\n",
      "Dep. Variable:                      y   R-squared:                       0.416\n",
      "Model:                            OLS   Adj. R-squared:                  0.353\n",
      "Method:                 Least Squares   F-statistic:                     6.646\n",
      "Date:                Thu, 14 Feb 2019   Prob (F-statistic):            0.00157\n",
      "Time:                        10:34:11   Log-Likelihood:                -12.978\n",
      "No. Observations:                  32   AIC:                             33.96\n",
      "Df Residuals:                      28   BIC:                             39.82\n",
      "Df Model:                           3                                         \n",
      "Covariance Type:            nonrobust                                         \n",
      "==============================================================================\n",
      "                 coef    std err          t      P>|t|      [0.025      0.975]\n",
      "------------------------------------------------------------------------------\n",
      "x1             0.4639      0.162      2.864      0.008       0.132       0.796\n",
      "x2             0.0105      0.019      0.539      0.594      -0.029       0.050\n",
      "x3             0.3786      0.139      2.720      0.011       0.093       0.664\n",
      "const         -1.4980      0.524     -2.859      0.008      -2.571      -0.425\n",
      "==============================================================================\n",
      "Omnibus:                        0.176   Durbin-Watson:                   2.346\n",
      "Prob(Omnibus):                  0.916   Jarque-Bera (JB):                0.167\n",
      "Skew:                           0.141   Prob(JB):                        0.920\n",
      "Kurtosis:                       2.786   Cond. No.                         176.\n",
      "==============================================================================\n",
      "\n",
      "Warnings:\n",
      "[1] Standard Errors assume that the covariance matrix of the errors is correctly specified.\n"
     ]
    }
   ],
   "source": [
    "print(res.summary())"
   ]
  },
  {
   "cell_type": "code",
   "execution_count": 16,
   "metadata": {},
   "outputs": [],
   "source": [
    "# https://www.statsmodels.org/stable/regression.html"
   ]
  }
 ],
 "metadata": {
  "kernelspec": {
   "display_name": "Python 3",
   "language": "python",
   "name": "python3"
  },
  "language_info": {
   "codemirror_mode": {
    "name": "ipython",
    "version": 3
   },
   "file_extension": ".py",
   "mimetype": "text/x-python",
   "name": "python",
   "nbconvert_exporter": "python",
   "pygments_lexer": "ipython3",
   "version": "3.5.5"
  }
 },
 "nbformat": 4,
 "nbformat_minor": 2
}
