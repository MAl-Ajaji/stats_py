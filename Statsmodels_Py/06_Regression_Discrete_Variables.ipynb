{
 "cells": [
  {
   "cell_type": "code",
   "execution_count": null,
   "metadata": {},
   "outputs": [],
   "source": [
    "# Discrete Choice Models"
   ]
  },
  {
   "cell_type": "code",
   "execution_count": 1,
   "metadata": {},
   "outputs": [],
   "source": [
    "%matplotlib inline\n",
    "\n",
    "from __future__ import print_function\n",
    "import numpy as np\n",
    "import pandas as pd\n",
    "from scipy import stats\n",
    "import matplotlib.pyplot as plt\n",
    "import statsmodels.api as sm\n",
    "from statsmodels.formula.api import logit, probit, poisson, ols"
   ]
  },
  {
   "cell_type": "code",
   "execution_count": null,
   "metadata": {},
   "outputs": [],
   "source": [
    "# A survey of women only was conducted in 1974 by Redbook asking about extramarital affairs."
   ]
  },
  {
   "cell_type": "code",
   "execution_count": 2,
   "metadata": {},
   "outputs": [
    {
     "name": "stdout",
     "output_type": "stream",
     "text": [
      "\n",
      "Fair, Ray. 1978. \"A Theory of Extramarital Affairs,\" `Journal of Political\n",
      "Economy`, February, 45-61.\n",
      "\n",
      "The data is available at http://fairmodel.econ.yale.edu/rayfair/pdf/2011b.htm\n",
      "\n"
     ]
    }
   ],
   "source": [
    "print(sm.datasets.fair.SOURCE)"
   ]
  },
  {
   "cell_type": "code",
   "execution_count": 3,
   "metadata": {},
   "outputs": [
    {
     "name": "stdout",
     "output_type": "stream",
     "text": [
      "::\n",
      "\n",
      "    Number of observations: 6366\n",
      "    Number of variables: 9\n",
      "    Variable name definitions:\n",
      "\n",
      "        rate_marriage   : How rate marriage, 1 = very poor, 2 = poor, 3 = fair,\n",
      "                        4 = good, 5 = very good\n",
      "        age             : Age\n",
      "        yrs_married     : No. years married. Interval approximations. See\n",
      "                        original paper for detailed explanation.\n",
      "        children        : No. children\n",
      "        religious       : How relgious, 1 = not, 2 = mildly, 3 = fairly,\n",
      "                        4 = strongly\n",
      "        educ            : Level of education, 9 = grade school, 12 = high\n",
      "                        school, 14 = some college, 16 = college graduate,\n",
      "                        17 = some graduate school, 20 = advanced degree\n",
      "        occupation      : 1 = student, 2 = farming, agriculture; semi-skilled,\n",
      "                        or unskilled worker; 3 = white-colloar; 4 = teacher\n",
      "                        counselor social worker, nurse; artist, writers;\n",
      "                        technician, skilled worker, 5 = managerial,\n",
      "                        administrative, business, 6 = professional with\n",
      "                        advanced degree\n",
      "        occupation_husb : Husband's occupation. Same as occupation.\n",
      "        affairs         : measure of time spent in extramarital affairs\n",
      "\n",
      "    See the original paper for more details.\n",
      "\n"
     ]
    }
   ],
   "source": [
    "print( sm.datasets.fair.NOTE)"
   ]
  },
  {
   "cell_type": "code",
   "execution_count": 4,
   "metadata": {},
   "outputs": [],
   "source": [
    "dta = sm.datasets.fair.load_pandas().data"
   ]
  },
  {
   "cell_type": "code",
   "execution_count": 5,
   "metadata": {},
   "outputs": [
    {
     "name": "stdout",
     "output_type": "stream",
     "text": [
      "   rate_marriage   age  yrs_married  children  religious  educ  occupation  \\\n",
      "0            3.0  32.0          9.0       3.0        3.0  17.0         2.0   \n",
      "1            3.0  27.0         13.0       3.0        1.0  14.0         3.0   \n",
      "2            4.0  22.0          2.5       0.0        1.0  16.0         3.0   \n",
      "3            4.0  37.0         16.5       4.0        3.0  16.0         5.0   \n",
      "4            5.0  27.0          9.0       1.0        1.0  14.0         3.0   \n",
      "5            4.0  27.0          9.0       0.0        2.0  14.0         3.0   \n",
      "6            5.0  37.0         23.0       5.5        2.0  12.0         5.0   \n",
      "7            5.0  37.0         23.0       5.5        2.0  12.0         2.0   \n",
      "8            3.0  22.0          2.5       0.0        2.0  12.0         3.0   \n",
      "9            3.0  27.0          6.0       0.0        1.0  16.0         3.0   \n",
      "\n",
      "   occupation_husb   affairs  affair  \n",
      "0              5.0  0.111111     1.0  \n",
      "1              4.0  3.230769     1.0  \n",
      "2              5.0  1.400000     1.0  \n",
      "3              5.0  0.727273     1.0  \n",
      "4              4.0  4.666666     1.0  \n",
      "5              4.0  4.666666     1.0  \n",
      "6              4.0  0.852174     1.0  \n",
      "7              3.0  1.826086     1.0  \n",
      "8              3.0  4.799999     1.0  \n",
      "9              5.0  1.333333     1.0  \n"
     ]
    }
   ],
   "source": [
    "dta['affair'] = (dta['affairs'] > 0).astype(float)\n",
    "print(dta.head(10))"
   ]
  },
  {
   "cell_type": "code",
   "execution_count": 6,
   "metadata": {},
   "outputs": [
    {
     "name": "stdout",
     "output_type": "stream",
     "text": [
      "       rate_marriage          age  yrs_married     children    religious  \\\n",
      "count    6366.000000  6366.000000  6366.000000  6366.000000  6366.000000   \n",
      "mean        4.109645    29.082862     9.009425     1.396874     2.426170   \n",
      "std         0.961430     6.847882     7.280120     1.433471     0.878369   \n",
      "min         1.000000    17.500000     0.500000     0.000000     1.000000   \n",
      "25%         4.000000    22.000000     2.500000     0.000000     2.000000   \n",
      "50%         4.000000    27.000000     6.000000     1.000000     2.000000   \n",
      "75%         5.000000    32.000000    16.500000     2.000000     3.000000   \n",
      "max         5.000000    42.000000    23.000000     5.500000     4.000000   \n",
      "\n",
      "              educ   occupation  occupation_husb      affairs       affair  \n",
      "count  6366.000000  6366.000000      6366.000000  6366.000000  6366.000000  \n",
      "mean     14.209865     3.424128         3.850141     0.705374     0.322495  \n",
      "std       2.178003     0.942399         1.346435     2.203374     0.467468  \n",
      "min       9.000000     1.000000         1.000000     0.000000     0.000000  \n",
      "25%      12.000000     3.000000         3.000000     0.000000     0.000000  \n",
      "50%      14.000000     3.000000         4.000000     0.000000     0.000000  \n",
      "75%      16.000000     4.000000         5.000000     0.484848     1.000000  \n",
      "max      20.000000     6.000000         6.000000    57.599991     1.000000  \n"
     ]
    }
   ],
   "source": [
    "print(dta.describe())"
   ]
  },
  {
   "cell_type": "code",
   "execution_count": 7,
   "metadata": {},
   "outputs": [
    {
     "name": "stdout",
     "output_type": "stream",
     "text": [
      "Optimization terminated successfully.\n",
      "         Current function value: 0.545314\n",
      "         Iterations 6\n"
     ]
    }
   ],
   "source": [
    "affair_mod = logit(\"affair ~ occupation + educ + occupation_husb\" \n",
    "                   \"+ rate_marriage + age + yrs_married + children\"\n",
    "                   \" + religious\", dta).fit()"
   ]
  },
  {
   "cell_type": "code",
   "execution_count": 8,
   "metadata": {},
   "outputs": [
    {
     "name": "stdout",
     "output_type": "stream",
     "text": [
      "                           Logit Regression Results                           \n",
      "==============================================================================\n",
      "Dep. Variable:                 affair   No. Observations:                 6366\n",
      "Model:                          Logit   Df Residuals:                     6357\n",
      "Method:                           MLE   Df Model:                            8\n",
      "Date:                Thu, 14 Feb 2019   Pseudo R-squ.:                  0.1327\n",
      "Time:                        16:43:56   Log-Likelihood:                -3471.5\n",
      "converged:                       True   LL-Null:                       -4002.5\n",
      "                                        LLR p-value:                5.807e-224\n",
      "===================================================================================\n",
      "                      coef    std err          z      P>|z|      [0.025      0.975]\n",
      "-----------------------------------------------------------------------------------\n",
      "Intercept           3.7257      0.299     12.470      0.000       3.140       4.311\n",
      "occupation          0.1602      0.034      4.717      0.000       0.094       0.227\n",
      "educ               -0.0392      0.015     -2.533      0.011      -0.070      -0.009\n",
      "occupation_husb     0.0124      0.023      0.541      0.589      -0.033       0.057\n",
      "rate_marriage      -0.7161      0.031    -22.784      0.000      -0.778      -0.655\n",
      "age                -0.0605      0.010     -5.885      0.000      -0.081      -0.040\n",
      "yrs_married         0.1100      0.011     10.054      0.000       0.089       0.131\n",
      "children           -0.0042      0.032     -0.134      0.893      -0.066       0.058\n",
      "religious          -0.3752      0.035    -10.792      0.000      -0.443      -0.307\n",
      "===================================================================================\n"
     ]
    }
   ],
   "source": [
    "print(affair_mod.summary())"
   ]
  },
  {
   "cell_type": "code",
   "execution_count": null,
   "metadata": {},
   "outputs": [],
   "source": [
    "# How well are we predicting?"
   ]
  },
  {
   "cell_type": "code",
   "execution_count": 9,
   "metadata": {},
   "outputs": [
    {
     "data": {
      "text/plain": [
       "array([[3882.,  431.],\n",
       "       [1326.,  727.]])"
      ]
     },
     "execution_count": 9,
     "metadata": {},
     "output_type": "execute_result"
    }
   ],
   "source": [
    "affair_mod.pred_table()"
   ]
  },
  {
   "cell_type": "code",
   "execution_count": null,
   "metadata": {},
   "outputs": [],
   "source": [
    "# The coefficients of the discrete choice model do not tell us much. What we're after is marginal effects."
   ]
  },
  {
   "cell_type": "code",
   "execution_count": 10,
   "metadata": {},
   "outputs": [
    {
     "name": "stdout",
     "output_type": "stream",
     "text": [
      "        Logit Marginal Effects       \n",
      "=====================================\n",
      "Dep. Variable:                 affair\n",
      "Method:                          dydx\n",
      "At:                           overall\n",
      "===================================================================================\n",
      "                     dy/dx    std err          z      P>|z|      [0.025      0.975]\n",
      "-----------------------------------------------------------------------------------\n",
      "occupation          0.0293      0.006      4.744      0.000       0.017       0.041\n",
      "educ               -0.0072      0.003     -2.538      0.011      -0.013      -0.002\n",
      "occupation_husb     0.0023      0.004      0.541      0.589      -0.006       0.010\n",
      "rate_marriage      -0.1308      0.005    -26.891      0.000      -0.140      -0.121\n",
      "age                -0.0110      0.002     -5.937      0.000      -0.015      -0.007\n",
      "yrs_married         0.0201      0.002     10.327      0.000       0.016       0.024\n",
      "children           -0.0008      0.006     -0.134      0.893      -0.012       0.011\n",
      "religious          -0.0685      0.006    -11.119      0.000      -0.081      -0.056\n",
      "===================================================================================\n"
     ]
    }
   ],
   "source": [
    "mfx = affair_mod.get_margeff()\n",
    "print(mfx.summary())"
   ]
  },
  {
   "cell_type": "code",
   "execution_count": 11,
   "metadata": {},
   "outputs": [
    {
     "name": "stdout",
     "output_type": "stream",
     "text": [
      "rate_marriage       4.000000\n",
      "age                37.000000\n",
      "yrs_married        23.000000\n",
      "children            3.000000\n",
      "religious           3.000000\n",
      "educ               12.000000\n",
      "occupation          3.000000\n",
      "occupation_husb     4.000000\n",
      "affairs             0.521739\n",
      "affair              1.000000\n",
      "Name: 1000, dtype: float64\n"
     ]
    }
   ],
   "source": [
    "respondent1000 = dta.iloc[1000]\n",
    "print(respondent1000)"
   ]
  },
  {
   "cell_type": "code",
   "execution_count": 12,
   "metadata": {},
   "outputs": [
    {
     "name": "stdout",
     "output_type": "stream",
     "text": [
      "{0: 1, 1: 3.0, 2: 12.0, 3: 4.0, 4: 4.0, 5: 37.0, 6: 23.0, 7: 3.0, 8: 3.0}\n"
     ]
    }
   ],
   "source": [
    "resp = dict(zip(range(1,9), respondent1000[[\"occupation\", \"educ\", \n",
    "                                            \"occupation_husb\", \"rate_marriage\", \n",
    "                                            \"age\", \"yrs_married\", \"children\", \n",
    "                                            \"religious\"]].tolist()))\n",
    "resp.update({0 : 1})\n",
    "print(resp)"
   ]
  },
  {
   "cell_type": "code",
   "execution_count": 13,
   "metadata": {},
   "outputs": [
    {
     "name": "stdout",
     "output_type": "stream",
     "text": [
      "        Logit Marginal Effects       \n",
      "=====================================\n",
      "Dep. Variable:                 affair\n",
      "Method:                          dydx\n",
      "At:                           overall\n",
      "===================================================================================\n",
      "                     dy/dx    std err          z      P>|z|      [0.025      0.975]\n",
      "-----------------------------------------------------------------------------------\n",
      "occupation          0.0400      0.008      4.711      0.000       0.023       0.057\n",
      "educ               -0.0098      0.004     -2.537      0.011      -0.017      -0.002\n",
      "occupation_husb     0.0031      0.006      0.541      0.589      -0.008       0.014\n",
      "rate_marriage      -0.1788      0.008    -22.743      0.000      -0.194      -0.163\n",
      "age                -0.0151      0.003     -5.928      0.000      -0.020      -0.010\n",
      "yrs_married         0.0275      0.003     10.256      0.000       0.022       0.033\n",
      "children           -0.0011      0.008     -0.134      0.893      -0.017       0.014\n",
      "religious          -0.0937      0.009    -10.722      0.000      -0.111      -0.077\n",
      "===================================================================================\n"
     ]
    }
   ],
   "source": [
    "mfx = affair_mod.get_margeff(atexog=resp)\n",
    "print(mfx.summary())"
   ]
  },
  {
   "cell_type": "code",
   "execution_count": 14,
   "metadata": {},
   "outputs": [],
   "source": [
    "# predict expects a DataFrame since patsy is used to select columns."
   ]
  },
  {
   "cell_type": "code",
   "execution_count": 15,
   "metadata": {},
   "outputs": [
    {
     "data": {
      "text/plain": [
       "1000    0.518782\n",
       "dtype: float64"
      ]
     },
     "execution_count": 15,
     "metadata": {},
     "output_type": "execute_result"
    }
   ],
   "source": [
    "respondent1000 = dta.iloc[[1000]]\n",
    "affair_mod.predict(respondent1000)"
   ]
  },
  {
   "cell_type": "code",
   "execution_count": 16,
   "metadata": {},
   "outputs": [
    {
     "data": {
      "text/plain": [
       "0.07516159285057666"
      ]
     },
     "execution_count": 16,
     "metadata": {},
     "output_type": "execute_result"
    }
   ],
   "source": [
    "affair_mod.fittedvalues[1000]"
   ]
  },
  {
   "cell_type": "code",
   "execution_count": 17,
   "metadata": {},
   "outputs": [
    {
     "data": {
      "text/plain": [
       "0.5187815572121505"
      ]
     },
     "execution_count": 17,
     "metadata": {},
     "output_type": "execute_result"
    }
   ],
   "source": [
    "affair_mod.model.cdf(affair_mod.fittedvalues[1000])"
   ]
  },
  {
   "cell_type": "code",
   "execution_count": null,
   "metadata": {},
   "outputs": [],
   "source": [
    "# Logit vs Probit"
   ]
  },
  {
   "cell_type": "code",
   "execution_count": 18,
   "metadata": {},
   "outputs": [
    {
     "data": {
      "text/plain": [
       "<matplotlib.legend.Legend at 0x19f9147e518>"
      ]
     },
     "execution_count": 18,
     "metadata": {},
     "output_type": "execute_result"
    },
    {
     "data": {
      "image/png": "[encoded data removed]",
      "text/plain": [
       "<Figure size 864x576 with 1 Axes>"
      ]
     },
     "metadata": {},
     "output_type": "display_data"
    }
   ],
   "source": [
    "fig = plt.figure(figsize=(12,8))\n",
    "ax = fig.add_subplot(111)\n",
    "support = np.linspace(-6, 6, 1000)\n",
    "ax.plot(support, stats.logistic.cdf(support), 'r-', label='Logistic')\n",
    "ax.plot(support, stats.norm.cdf(support), label='Probit')\n",
    "ax.legend()"
   ]
  },
  {
   "cell_type": "code",
   "execution_count": 19,
   "metadata": {},
   "outputs": [
    {
     "data": {
      "text/plain": [
       "<matplotlib.legend.Legend at 0x19f91411b70>"
      ]
     },
     "execution_count": 19,
     "metadata": {},
     "output_type": "execute_result"
    },
    {
     "data": {
      "image/png": "[encoded data removed]",
      "text/plain": [
       "<Figure size 864x576 with 1 Axes>"
      ]
     },
     "metadata": {},
     "output_type": "display_data"
    }
   ],
   "source": [
    "fig = plt.figure(figsize=(12,8))\n",
    "ax = fig.add_subplot(111)\n",
    "support = np.linspace(-6, 6, 1000)\n",
    "ax.plot(support, stats.logistic.pdf(support), 'r-', label='Logistic')\n",
    "ax.plot(support, stats.norm.pdf(support), label='Probit')\n",
    "ax.legend()"
   ]
  },
  {
   "cell_type": "code",
   "execution_count": 20,
   "metadata": {},
   "outputs": [],
   "source": [
    "# Genarlized Linear Model Example"
   ]
  },
  {
   "cell_type": "code",
   "execution_count": 21,
   "metadata": {},
   "outputs": [
    {
     "name": "stdout",
     "output_type": "stream",
     "text": [
      "\n",
      "Jeff Gill's `Generalized Linear Models: A Unified Approach`\n",
      "\n",
      "http://jgill.wustl.edu/research/books.html\n",
      "\n"
     ]
    }
   ],
   "source": [
    "print(sm.datasets.star98.SOURCE)"
   ]
  },
  {
   "cell_type": "code",
   "execution_count": 22,
   "metadata": {},
   "outputs": [
    {
     "name": "stdout",
     "output_type": "stream",
     "text": [
      "\n",
      "This data is on the California education policy and outcomes (STAR program\n",
      "results for 1998.  The data measured standardized testing by the California\n",
      "Department of Education that required evaluation of 2nd - 11th grade students\n",
      "by the the Stanford 9 test on a variety of subjects.  This dataset is at\n",
      "the level of the unified school district and consists of 303 cases.  The\n",
      "binary response variable represents the number of 9th graders scoring\n",
      "over the national median value on the mathematics exam.\n",
      "\n",
      "The data used in this example is only a subset of the original source.\n",
      "\n"
     ]
    }
   ],
   "source": [
    "print(sm.datasets.star98.DESCRLONG)"
   ]
  },
  {
   "cell_type": "code",
   "execution_count": 23,
   "metadata": {},
   "outputs": [
    {
     "name": "stdout",
     "output_type": "stream",
     "text": [
      "::\n",
      "\n",
      "    Number of Observations - 303 (counties in California).\n",
      "\n",
      "    Number of Variables - 13 and 8 interaction terms.\n",
      "\n",
      "    Definition of variables names::\n",
      "\n",
      "        NABOVE   - Total number of students above the national median for the\n",
      "                   math section.\n",
      "        NBELOW   - Total number of students below the national median for the\n",
      "                   math section.\n",
      "        LOWINC   - Percentage of low income students\n",
      "        PERASIAN - Percentage of Asian student\n",
      "        PERBLACK - Percentage of black students\n",
      "        PERHISP  - Percentage of Hispanic students\n",
      "        PERMINTE - Percentage of minority teachers\n",
      "        AVYRSEXP - Sum of teachers' years in educational service divided by the\n",
      "                number of teachers.\n",
      "        AVSALK   - Total salary budget including benefits divided by the number\n",
      "                   of full-time teachers (in thousands)\n",
      "        PERSPENK - Per-pupil spending (in thousands)\n",
      "        PTRATIO  - Pupil-teacher ratio.\n",
      "        PCTAF    - Percentage of students taking UC/CSU prep courses\n",
      "        PCTCHRT  - Percentage of charter schools\n",
      "        PCTYRRND - Percentage of year-round schools\n",
      "\n",
      "        The below variables are interaction terms of the variables defined\n",
      "        above.\n",
      "\n",
      "        PERMINTE_AVYRSEXP\n",
      "        PEMINTE_AVSAL\n",
      "        AVYRSEXP_AVSAL\n",
      "        PERSPEN_PTRATIO\n",
      "        PERSPEN_PCTAF\n",
      "        PTRATIO_PCTAF\n",
      "        PERMINTE_AVTRSEXP_AVSAL\n",
      "        PERSPEN_PTRATIO_PCTAF\n",
      "\n"
     ]
    }
   ],
   "source": [
    "print(sm.datasets.star98.NOTE)"
   ]
  },
  {
   "cell_type": "code",
   "execution_count": 24,
   "metadata": {},
   "outputs": [
    {
     "name": "stdout",
     "output_type": "stream",
     "text": [
      "Index(['NABOVE', 'NBELOW', 'LOWINC', 'PERASIAN', 'PERBLACK', 'PERHISP',\n",
      "       'PERMINTE', 'AVYRSEXP', 'AVSALK', 'PERSPENK', 'PTRATIO', 'PCTAF',\n",
      "       'PCTCHRT', 'PCTYRRND', 'PERMINTE_AVYRSEXP', 'PERMINTE_AVSAL',\n",
      "       'AVYRSEXP_AVSAL', 'PERSPEN_PTRATIO', 'PERSPEN_PCTAF', 'PTRATIO_PCTAF',\n",
      "       'PERMINTE_AVYRSEXP_AVSAL', 'PERSPEN_PTRATIO_PCTAF'],\n",
      "      dtype='object')\n"
     ]
    }
   ],
   "source": [
    "dta = sm.datasets.star98.load_pandas().data\n",
    "print(dta.columns)"
   ]
  },
  {
   "cell_type": "code",
   "execution_count": 25,
   "metadata": {},
   "outputs": [
    {
     "name": "stdout",
     "output_type": "stream",
     "text": [
      "   NABOVE  NBELOW    LOWINC   PERASIAN   PERBLACK    PERHISP   PERMINTE\n",
      "0   452.0   355.0  34.39730  23.299300  14.235280  11.411120  15.918370\n",
      "1   144.0    40.0  17.36507  29.328380   8.234897   9.314884  13.636360\n",
      "2   337.0   234.0  32.64324   9.226386  42.406310  13.543720  28.834360\n",
      "3   395.0   178.0  11.90953  13.883090   3.796973  11.443110  11.111110\n",
      "4     8.0    57.0  36.88889  12.187500  76.875000   7.604167  43.589740\n",
      "5  1348.0   899.0  20.93149  28.023510   4.643221  13.808160  15.378490\n",
      "6   477.0   887.0  53.26898   8.447858  19.374830  37.905330  25.525530\n",
      "7   565.0   347.0  15.19009   3.665781   2.649680  13.092070   6.203008\n",
      "8   205.0   320.0  28.21582  10.430420   6.786374  32.334300  13.461540\n",
      "9   469.0   598.0  32.77897  17.178310  12.484930  28.323290  27.259890\n"
     ]
    }
   ],
   "source": [
    "print(dta[['NABOVE', 'NBELOW', 'LOWINC', 'PERASIAN', 'PERBLACK', 'PERHISP', 'PERMINTE']].head(10))"
   ]
  },
  {
   "cell_type": "code",
   "execution_count": 26,
   "metadata": {},
   "outputs": [
    {
     "name": "stdout",
     "output_type": "stream",
     "text": [
      "   AVYRSEXP    AVSALK  PERSPENK   PTRATIO     PCTAF  PCTCHRT   PCTYRRND\n",
      "0  14.70646  59.15732  4.445207  21.71025  57.03276      0.0  22.222220\n",
      "1  16.08324  59.50397  5.267598  20.44278  64.62264      0.0   0.000000\n",
      "2  14.59559  60.56992  5.482922  18.95419  53.94191      0.0   0.000000\n",
      "3  14.38939  58.33411  4.165093  21.63539  49.06103      0.0   7.142857\n",
      "4  13.90568  63.15364  4.324902  18.77984  52.38095      0.0   0.000000\n",
      "5  14.97755  66.97055  3.916104  24.51914  44.91578      0.0   2.380952\n",
      "6  14.67829  57.62195  4.270903  22.21278  32.28916      0.0  12.121210\n",
      "7  13.66197  63.44740  4.309734  24.59026  30.45267      0.0   0.000000\n",
      "8  16.41760  57.84564  4.527603  21.74138  22.64574      0.0   0.000000\n",
      "9  12.51864  57.80141  4.648917  20.26010  26.07099      0.0   0.000000\n"
     ]
    }
   ],
   "source": [
    "print(dta[['AVYRSEXP', 'AVSALK', 'PERSPENK', 'PTRATIO', 'PCTAF', 'PCTCHRT', 'PCTYRRND']].head(10))"
   ]
  },
  {
   "cell_type": "code",
   "execution_count": 27,
   "metadata": {},
   "outputs": [],
   "source": [
    "formula = 'NABOVE + NBELOW ~ LOWINC + PERASIAN + PERBLACK + PERHISP + PCTCHRT '\n",
    "formula += '+ PCTYRRND + PERMINTE*AVYRSEXP*AVSALK + PERSPENK*PTRATIO*PCTAF'"
   ]
  },
  {
   "cell_type": "code",
   "execution_count": null,
   "metadata": {},
   "outputs": [],
   "source": [
    "# Toss a six-sided die 5 times, what's the probability of exactly 2 fours?"
   ]
  },
  {
   "cell_type": "code",
   "execution_count": 28,
   "metadata": {},
   "outputs": [
    {
     "data": {
      "text/plain": [
       "0.16075102880658435"
      ]
     },
     "execution_count": 28,
     "metadata": {},
     "output_type": "execute_result"
    }
   ],
   "source": [
    "stats.binom(5, 1./6).pmf(2)"
   ]
  },
  {
   "cell_type": "code",
   "execution_count": 29,
   "metadata": {},
   "outputs": [],
   "source": [
    "from statsmodels.formula.api import glm\n",
    "glm_mod = glm(formula, dta, family=sm.families.Binomial()).fit()"
   ]
  },
  {
   "cell_type": "code",
   "execution_count": 30,
   "metadata": {},
   "outputs": [
    {
     "name": "stdout",
     "output_type": "stream",
     "text": [
      "                  Generalized Linear Model Regression Results                   \n",
      "================================================================================\n",
      "Dep. Variable:     ['NABOVE', 'NBELOW']   No. Observations:                  303\n",
      "Model:                              GLM   Df Residuals:                      282\n",
      "Model Family:                  Binomial   Df Model:                           20\n",
      "Link Function:                    logit   Scale:                          1.0000\n",
      "Method:                            IRLS   Log-Likelihood:                -2998.6\n",
      "Date:                  Thu, 14 Feb 2019   Deviance:                       4078.8\n",
      "Time:                          17:05:31   Pearson chi2:                 4.05e+03\n",
      "No. Iterations:                       5   Covariance Type:             nonrobust\n",
      "============================================================================================\n",
      "                               coef    std err          z      P>|z|      [0.025      0.975]\n",
      "--------------------------------------------------------------------------------------------\n",
      "Intercept                    2.9589      1.547      1.913      0.056      -0.073       5.990\n",
      "LOWINC                      -0.0168      0.000    -38.749      0.000      -0.018      -0.016\n",
      "PERASIAN                     0.0099      0.001     16.505      0.000       0.009       0.011\n",
      "PERBLACK                    -0.0187      0.001    -25.182      0.000      -0.020      -0.017\n",
      "PERHISP                     -0.0142      0.000    -32.818      0.000      -0.015      -0.013\n",
      "PCTCHRT                      0.0049      0.001      3.921      0.000       0.002       0.007\n",
      "PCTYRRND                    -0.0036      0.000    -15.878      0.000      -0.004      -0.003\n",
      "PERMINTE                     0.2545      0.030      8.498      0.000       0.196       0.313\n",
      "AVYRSEXP                     0.2407      0.057      4.212      0.000       0.129       0.353\n",
      "PERMINTE:AVYRSEXP           -0.0141      0.002     -7.391      0.000      -0.018      -0.010\n",
      "AVSALK                       0.0804      0.014      5.775      0.000       0.053       0.108\n",
      "PERMINTE:AVSALK             -0.0040      0.000     -8.450      0.000      -0.005      -0.003\n",
      "AVYRSEXP:AVSALK             -0.0039      0.001     -4.059      0.000      -0.006      -0.002\n",
      "PERMINTE:AVYRSEXP:AVSALK     0.0002   2.99e-05      7.428      0.000       0.000       0.000\n",
      "PERSPENK                    -1.9522      0.317     -6.162      0.000      -2.573      -1.331\n",
      "PTRATIO                     -0.3341      0.061     -5.453      0.000      -0.454      -0.214\n",
      "PERSPENK:PTRATIO             0.0917      0.015      6.321      0.000       0.063       0.120\n",
      "PCTAF                       -0.1690      0.033     -5.169      0.000      -0.233      -0.105\n",
      "PERSPENK:PCTAF               0.0490      0.007      6.574      0.000       0.034       0.064\n",
      "PTRATIO:PCTAF                0.0080      0.001      5.362      0.000       0.005       0.011\n",
      "PERSPENK:PTRATIO:PCTAF      -0.0022      0.000     -6.445      0.000      -0.003      -0.002\n",
      "============================================================================================\n"
     ]
    }
   ],
   "source": [
    "print(glm_mod.summary())"
   ]
  },
  {
   "cell_type": "code",
   "execution_count": 31,
   "metadata": {},
   "outputs": [
    {
     "data": {
      "text/plain": [
       "0       807.0\n",
       "1       184.0\n",
       "2       571.0\n",
       "3       573.0\n",
       "4        65.0\n",
       "5      2247.0\n",
       "6      1364.0\n",
       "7       912.0\n",
       "8       525.0\n",
       "9      1067.0\n",
       "10     3016.0\n",
       "11      235.0\n",
       "12      556.0\n",
       "13      688.0\n",
       "14      252.0\n",
       "15      925.0\n",
       "16      377.0\n",
       "17       69.0\n",
       "18     1092.0\n",
       "19      115.0\n",
       "20      139.0\n",
       "21      449.0\n",
       "22      309.0\n",
       "23      116.0\n",
       "24       81.0\n",
       "25       66.0\n",
       "26     1259.0\n",
       "27      190.0\n",
       "28      322.0\n",
       "29     2394.0\n",
       "        ...  \n",
       "273     120.0\n",
       "274     224.0\n",
       "275     733.0\n",
       "276     120.0\n",
       "277     135.0\n",
       "278     776.0\n",
       "279     207.0\n",
       "280      41.0\n",
       "281      43.0\n",
       "282     259.0\n",
       "283     342.0\n",
       "284     250.0\n",
       "285    1750.0\n",
       "286     150.0\n",
       "287     134.0\n",
       "288      53.0\n",
       "289     266.0\n",
       "290     304.0\n",
       "291    1338.0\n",
       "292    1170.0\n",
       "293    1431.0\n",
       "294     248.0\n",
       "295     516.0\n",
       "296     591.0\n",
       "297      59.0\n",
       "298     342.0\n",
       "299     154.0\n",
       "300     595.0\n",
       "301     709.0\n",
       "302     156.0\n",
       "Length: 303, dtype: float64"
      ]
     },
     "execution_count": 31,
     "metadata": {},
     "output_type": "execute_result"
    }
   ],
   "source": [
    "glm_mod.model.data.orig_endog.sum(1)"
   ]
  },
  {
   "cell_type": "code",
   "execution_count": 32,
   "metadata": {},
   "outputs": [
    {
     "data": {
      "text/plain": [
       "0       470.732584\n",
       "1       138.266178\n",
       "2       285.832629\n",
       "3       392.702917\n",
       "4        20.963146\n",
       "5      1543.545102\n",
       "6       454.209651\n",
       "7       598.497867\n",
       "8       261.720305\n",
       "9       540.687237\n",
       "10      722.479333\n",
       "11      203.583934\n",
       "12      258.167040\n",
       "13      303.902616\n",
       "14      168.330747\n",
       "15      684.393625\n",
       "16      195.911948\n",
       "17       29.285268\n",
       "18      616.911004\n",
       "19       68.139395\n",
       "20       48.369683\n",
       "21      253.303415\n",
       "22      154.420779\n",
       "23       41.360255\n",
       "24       16.809362\n",
       "25       12.057599\n",
       "26      565.702043\n",
       "27       91.247771\n",
       "28      193.088229\n",
       "29     1408.837645\n",
       "          ...     \n",
       "273      47.775769\n",
       "274      63.404739\n",
       "275     297.019427\n",
       "276      36.144700\n",
       "277      35.640558\n",
       "278     343.034529\n",
       "279      83.929791\n",
       "280      16.140299\n",
       "281      23.773918\n",
       "282      36.529829\n",
       "283      60.021489\n",
       "284      48.727397\n",
       "285     704.464980\n",
       "286      31.525238\n",
       "287      13.014093\n",
       "288      33.470295\n",
       "289      68.855461\n",
       "290     174.264199\n",
       "291     827.377548\n",
       "292     506.242734\n",
       "293     958.896993\n",
       "294     187.988967\n",
       "295     259.823500\n",
       "296     379.553974\n",
       "297      17.656181\n",
       "298     111.464708\n",
       "299      61.037884\n",
       "300     235.517446\n",
       "301     290.952508\n",
       "302      53.312851\n",
       "Length: 303, dtype: float64"
      ]
     },
     "execution_count": 32,
     "metadata": {},
     "output_type": "execute_result"
    }
   ],
   "source": [
    "glm_mod.fittedvalues * glm_mod.model.data.orig_endog.sum(1)"
   ]
  },
  {
   "cell_type": "markdown",
   "metadata": {},
   "source": [
    "First differences: We hold all explanatory variables constant at their means and manipulate the percentage of low income households to assess its impact on the response variables:"
   ]
  },
  {
   "cell_type": "code",
   "execution_count": 33,
   "metadata": {},
   "outputs": [],
   "source": [
    "exog = glm_mod.model.data.orig_exog # get the dataframe"
   ]
  },
  {
   "cell_type": "code",
   "execution_count": 34,
   "metadata": {},
   "outputs": [
    {
     "name": "stdout",
     "output_type": "stream",
     "text": [
      "Intercept                       1.000000\n",
      "LOWINC                         41.409877\n",
      "PERASIAN                        5.896335\n",
      "PERBLACK                        5.636808\n",
      "PERHISP                        34.398080\n",
      "PCTCHRT                         1.175909\n",
      "PCTYRRND                       11.611905\n",
      "PERMINTE                       14.694747\n",
      "AVYRSEXP                       14.253875\n",
      "PERMINTE:AVYRSEXP             209.018700\n",
      "AVSALK                         58.640258\n",
      "PERMINTE:AVSALK               879.979883\n",
      "AVYRSEXP:AVSALK               839.718173\n",
      "PERMINTE:AVYRSEXP:AVSALK    12585.266464\n",
      "PERSPENK                        4.320310\n",
      "PTRATIO                        22.464250\n",
      "PERSPENK:PTRATIO               96.295756\n",
      "PCTAF                          33.630593\n",
      "PERSPENK:PCTAF                147.235740\n",
      "PTRATIO:PCTAF                 747.445536\n",
      "PERSPENK:PTRATIO:PCTAF       3243.607568\n",
      "dtype: float64\n"
     ]
    }
   ],
   "source": [
    "means25 = exog.mean()\n",
    "print(means25)"
   ]
  },
  {
   "cell_type": "code",
   "execution_count": 35,
   "metadata": {},
   "outputs": [
    {
     "name": "stdout",
     "output_type": "stream",
     "text": [
      "Intercept                       1.000000\n",
      "LOWINC                         26.683040\n",
      "PERASIAN                        5.896335\n",
      "PERBLACK                        5.636808\n",
      "PERHISP                        34.398080\n",
      "PCTCHRT                         1.175909\n",
      "PCTYRRND                       11.611905\n",
      "PERMINTE                       14.694747\n",
      "AVYRSEXP                       14.253875\n",
      "PERMINTE:AVYRSEXP             209.018700\n",
      "AVSALK                         58.640258\n",
      "PERMINTE:AVSALK               879.979883\n",
      "AVYRSEXP:AVSALK               839.718173\n",
      "PERMINTE:AVYRSEXP:AVSALK    12585.266464\n",
      "PERSPENK                        4.320310\n",
      "PTRATIO                        22.464250\n",
      "PERSPENK:PTRATIO               96.295756\n",
      "PCTAF                          33.630593\n",
      "PERSPENK:PCTAF                147.235740\n",
      "PTRATIO:PCTAF                 747.445536\n",
      "PERSPENK:PTRATIO:PCTAF       3243.607568\n",
      "dtype: float64\n"
     ]
    }
   ],
   "source": [
    "means25['LOWINC'] = exog['LOWINC'].quantile(.25)\n",
    "print(means25)"
   ]
  },
  {
   "cell_type": "code",
   "execution_count": 36,
   "metadata": {},
   "outputs": [
    {
     "name": "stdout",
     "output_type": "stream",
     "text": [
      "Intercept                       1.000000\n",
      "LOWINC                         55.460075\n",
      "PERASIAN                        5.896335\n",
      "PERBLACK                        5.636808\n",
      "PERHISP                        34.398080\n",
      "PCTCHRT                         1.175909\n",
      "PCTYRRND                       11.611905\n",
      "PERMINTE                       14.694747\n",
      "AVYRSEXP                       14.253875\n",
      "PERMINTE:AVYRSEXP             209.018700\n",
      "AVSALK                         58.640258\n",
      "PERMINTE:AVSALK               879.979883\n",
      "AVYRSEXP:AVSALK               839.718173\n",
      "PERMINTE:AVYRSEXP:AVSALK    12585.266464\n",
      "PERSPENK                        4.320310\n",
      "PTRATIO                        22.464250\n",
      "PERSPENK:PTRATIO               96.295756\n",
      "PCTAF                          33.630593\n",
      "PERSPENK:PCTAF                147.235740\n",
      "PTRATIO:PCTAF                 747.445536\n",
      "PERSPENK:PTRATIO:PCTAF       3243.607568\n",
      "dtype: float64\n"
     ]
    }
   ],
   "source": [
    "means75 = exog.mean()\n",
    "means75['LOWINC'] = exog['LOWINC'].quantile(.75)\n",
    "print(means75)"
   ]
  },
  {
   "cell_type": "code",
   "execution_count": null,
   "metadata": {},
   "outputs": [],
   "source": [
    "# Again, predict expects a DataFrame since patsy is used to select columns."
   ]
  },
  {
   "cell_type": "code",
   "execution_count": 37,
   "metadata": {},
   "outputs": [],
   "source": [
    "resp25 = glm_mod.predict(pd.DataFrame(means25).T)\n",
    "resp75 = glm_mod.predict(pd.DataFrame(means75).T)\n",
    "diff = resp75 - resp25"
   ]
  },
  {
   "cell_type": "code",
   "execution_count": null,
   "metadata": {},
   "outputs": [],
   "source": [
    "# he interquartile first difference for the percentage of low income households in a school district is:"
   ]
  },
  {
   "cell_type": "code",
   "execution_count": 38,
   "metadata": {},
   "outputs": [
    {
     "name": "stdout",
     "output_type": "stream",
     "text": [
      "-11.8863%\n"
     ]
    }
   ],
   "source": [
    "print(\"%2.4f%%\" % (diff[0]*100))"
   ]
  },
  {
   "cell_type": "code",
   "execution_count": 39,
   "metadata": {},
   "outputs": [],
   "source": [
    "nobs = glm_mod.nobs\n",
    "y = glm_mod.model.endog\n",
    "yhat = glm_mod.mu"
   ]
  },
  {
   "cell_type": "code",
   "execution_count": 40,
   "metadata": {},
   "outputs": [
    {
     "data": {
      "image/png": "[encoded data removed]",
      "text/plain": [
       "<Figure size 864x576 with 1 Axes>"
      ]
     },
     "metadata": {},
     "output_type": "display_data"
    }
   ],
   "source": [
    "from statsmodels.graphics.api import abline_plot\n",
    "fig = plt.figure(figsize=(12,8))\n",
    "ax = fig.add_subplot(111, ylabel='Observed Values', xlabel='Fitted Values')\n",
    "ax.scatter(yhat, y)\n",
    "y_vs_yhat = sm.OLS(y, sm.add_constant(yhat, prepend=True)).fit()\n",
    "fig = abline_plot(model_results=y_vs_yhat, ax=ax)"
   ]
  },
  {
   "cell_type": "code",
   "execution_count": null,
   "metadata": {},
   "outputs": [],
   "source": [
    "# Plot fitted values vs Pearson residuals"
   ]
  },
  {
   "cell_type": "code",
   "execution_count": 41,
   "metadata": {},
   "outputs": [
    {
     "data": {
      "image/png": "[encoded data removed]",
      "text/plain": [
       "<Figure size 864x576 with 1 Axes>"
      ]
     },
     "metadata": {},
     "output_type": "display_data"
    }
   ],
   "source": [
    "fig = plt.figure(figsize=(12,8))\n",
    "ax = fig.add_subplot(111, title='Residual Dependence Plot', xlabel='Fitted Values',\n",
    "                          ylabel='Pearson Residuals')\n",
    "ax.scatter(yhat, stats.zscore(glm_mod.resid_pearson))\n",
    "ax.axis('tight')\n",
    "ax.plot([0.0, 1.0],[0.0, 0.0], 'k-');"
   ]
  },
  {
   "cell_type": "code",
   "execution_count": null,
   "metadata": {},
   "outputs": [],
   "source": [
    "# Histogram of standardized deviance residuals with Kernel Density Estimate overlayed"
   ]
  },
  {
   "cell_type": "code",
   "execution_count": 42,
   "metadata": {},
   "outputs": [],
   "source": [
    "resid = glm_mod.resid_deviance\n",
    "resid_std = stats.zscore(resid) \n",
    "kde_resid = sm.nonparametric.KDEUnivariate(resid_std)\n",
    "kde_resid.fit()"
   ]
  },
  {
   "cell_type": "code",
   "execution_count": 43,
   "metadata": {},
   "outputs": [
    {
     "name": "stderr",
     "output_type": "stream",
     "text": [
      "C:\\Users\\kxi110617\\AppData\\Local\\conda\\conda\\envs\\deeplearning\\lib\\site-packages\\matplotlib\\axes\\_axes.py:6462: UserWarning: The 'normed' kwarg is deprecated, and has been replaced by the 'density' kwarg.\n",
      "  warnings.warn(\"The 'normed' kwarg is deprecated, and has been \"\n"
     ]
    },
    {
     "data": {
      "image/png": "[encoded data removed]",
      "text/plain": [
       "<Figure size 864x576 with 1 Axes>"
      ]
     },
     "metadata": {},
     "output_type": "display_data"
    }
   ],
   "source": [
    "fig = plt.figure(figsize=(12,8))\n",
    "ax = fig.add_subplot(111, title=\"Standardized Deviance Residuals\")\n",
    "ax.hist(resid_std, bins=25, normed=True);\n",
    "ax.plot(kde_resid.support, kde_resid.density, 'r');"
   ]
  },
  {
   "cell_type": "code",
   "execution_count": 44,
   "metadata": {},
   "outputs": [],
   "source": [
    "# QQ-plot of deviance residuals"
   ]
  },
  {
   "cell_type": "code",
   "execution_count": 45,
   "metadata": {},
   "outputs": [
    {
     "data": {
      "image/png": "[encoded data removed]",
      "text/plain": [
       "<Figure size 864x576 with 1 Axes>"
      ]
     },
     "metadata": {},
     "output_type": "display_data"
    }
   ],
   "source": [
    "fig = plt.figure(figsize=(12,8))\n",
    "ax = fig.add_subplot(111)\n",
    "fig = sm.graphics.qqplot(resid, line='r', ax=ax)"
   ]
  },
  {
   "cell_type": "code",
   "execution_count": null,
   "metadata": {},
   "outputs": [],
   "source": [
    "# https://www.statsmodels.org/stable/examples/notebooks/generated/discrete_choice_example.html"
   ]
  }
 ],
 "metadata": {
  "kernelspec": {
   "display_name": "Python 3",
   "language": "python",
   "name": "python3"
  },
  "language_info": {
   "codemirror_mode": {
    "name": "ipython",
    "version": 3
   },
   "file_extension": ".py",
   "mimetype": "text/x-python",
   "name": "python",
   "nbconvert_exporter": "python",
   "pygments_lexer": "ipython3",
   "version": "3.5.5"
  }
 },
 "nbformat": 4,
 "nbformat_minor": 2
}
