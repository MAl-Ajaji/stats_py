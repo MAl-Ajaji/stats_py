{
 "cells": [
  {
   "cell_type": "code",
   "execution_count": 1,
   "metadata": {},
   "outputs": [],
   "source": [
    "# Generalized Estimating Equations\n",
    "# https://github.com/statsmodels/statsmodels/wiki/Examples#generalized-estimating-equations-gee"
   ]
  },
  {
   "cell_type": "code",
   "execution_count": null,
   "metadata": {},
   "outputs": [],
   "source": [
    "# The following illustrates a Poisson regression with exchangeable correlation within clusters using data on epilepsy seizures."
   ]
  },
  {
   "cell_type": "code",
   "execution_count": 3,
   "metadata": {},
   "outputs": [],
   "source": [
    "import statsmodels.api as sm\n",
    "import statsmodels.formula.api as smf"
   ]
  },
  {
   "cell_type": "code",
   "execution_count": 4,
   "metadata": {},
   "outputs": [],
   "source": [
    "data = sm.datasets.get_rdataset('epil', package='MASS').data\n",
    "fam = sm.families.Poisson()\n",
    "ind = sm.cov_struct.Exchangeable()"
   ]
  },
  {
   "cell_type": "code",
   "execution_count": 5,
   "metadata": {},
   "outputs": [],
   "source": [
    "mod = smf.gee(\"y ~ age + trt + base\", \"subject\", data, cov_struct=ind, family=fam)"
   ]
  },
  {
   "cell_type": "code",
   "execution_count": 6,
   "metadata": {},
   "outputs": [],
   "source": [
    "res = mod.fit()"
   ]
  },
  {
   "cell_type": "code",
   "execution_count": 7,
   "metadata": {},
   "outputs": [
    {
     "name": "stdout",
     "output_type": "stream",
     "text": [
      "                               GEE Regression Results                              \n",
      "===================================================================================\n",
      "Dep. Variable:                           y   No. Observations:                  236\n",
      "Model:                                 GEE   No. clusters:                       59\n",
      "Method:                        Generalized   Min. cluster size:                   4\n",
      "                      Estimating Equations   Max. cluster size:                   4\n",
      "Family:                            Poisson   Mean cluster size:                 4.0\n",
      "Dependence structure:         Exchangeable   Num. iterations:                    51\n",
      "Date:                     Thu, 14 Feb 2019   Scale:                           1.000\n",
      "Covariance type:                    robust   Time:                         13:58:14\n",
      "====================================================================================\n",
      "                       coef    std err          z      P>|z|      [0.025      0.975]\n",
      "------------------------------------------------------------------------------------\n",
      "Intercept            0.5730      0.361      1.589      0.112      -0.134       1.280\n",
      "trt[T.progabide]    -0.1519      0.171     -0.888      0.375      -0.487       0.183\n",
      "age                  0.0223      0.011      1.960      0.050    2.11e-06       0.045\n",
      "base                 0.0226      0.001     18.451      0.000       0.020       0.025\n",
      "==============================================================================\n",
      "Skew:                          3.7823   Kurtosis:                      28.6672\n",
      "Centered skew:                 2.7597   Centered kurtosis:             21.9865\n",
      "==============================================================================\n"
     ]
    }
   ],
   "source": [
    "print(res.summary())"
   ]
  },
  {
   "cell_type": "code",
   "execution_count": 8,
   "metadata": {},
   "outputs": [],
   "source": [
    "# Key ideas: Nested dependence structures\n",
    "# https://nbviewer.jupyter.org/urls/umich.box.com/shared/static/wt4jlup9nwbt2d69xvm6.ipynb?create=1"
   ]
  },
  {
   "cell_type": "code",
   "execution_count": 9,
   "metadata": {},
   "outputs": [],
   "source": [
    "import numpy as np\n",
    "import pandas as pd\n",
    "import statsmodels.api as sm"
   ]
  },
  {
   "cell_type": "code",
   "execution_count": 10,
   "metadata": {},
   "outputs": [],
   "source": [
    "# The data file has no column labels, so we attach them manually."
   ]
  },
  {
   "cell_type": "code",
   "execution_count": 11,
   "metadata": {},
   "outputs": [],
   "source": [
    "data = pd.read_csv(\"Exam.txt\", header=None, sep=' ')\n",
    "data.columns = [\"Board\", \"A-Score\", \"Gtot\", \"Gnum\",\n",
    "                \"Gender\", \"Age\", \"Inst_Type\", \"LEA\",\n",
    "                \"Institute\", \"Student\"]"
   ]
  },
  {
   "cell_type": "code",
   "execution_count": 12,
   "metadata": {},
   "outputs": [
    {
     "data": {
      "text/html": [
       "<div>\n",
       "<style scoped>\n",
       "    .dataframe tbody tr th:only-of-type {\n",
       "        vertical-align: middle;\n",
       "    }\n",
       "\n",
       "    .dataframe tbody tr th {\n",
       "        vertical-align: top;\n",
       "    }\n",
       "\n",
       "    .dataframe thead th {\n",
       "        text-align: right;\n",
       "    }\n",
       "</style>\n",
       "<table border=\"1\" class=\"dataframe\">\n",
       "  <thead>\n",
       "    <tr style=\"text-align: right;\">\n",
       "      <th></th>\n",
       "      <th>Board</th>\n",
       "      <th>A-Score</th>\n",
       "      <th>Gtot</th>\n",
       "      <th>Gnum</th>\n",
       "      <th>Gender</th>\n",
       "      <th>Age</th>\n",
       "      <th>Inst_Type</th>\n",
       "      <th>LEA</th>\n",
       "      <th>Institute</th>\n",
       "      <th>Student</th>\n",
       "    </tr>\n",
       "  </thead>\n",
       "  <tbody>\n",
       "    <tr>\n",
       "      <th>0</th>\n",
       "      <td>1.0</td>\n",
       "      <td>143.0</td>\n",
       "      <td>0.261324</td>\n",
       "      <td>1</td>\n",
       "      <td>0.619059</td>\n",
       "      <td>1</td>\n",
       "      <td>1</td>\n",
       "      <td>0.166175</td>\n",
       "      <td>2</td>\n",
       "      <td>1</td>\n",
       "    </tr>\n",
       "    <tr>\n",
       "      <th>1</th>\n",
       "      <td>1.0</td>\n",
       "      <td>145.0</td>\n",
       "      <td>0.134067</td>\n",
       "      <td>1</td>\n",
       "      <td>0.205802</td>\n",
       "      <td>1</td>\n",
       "      <td>1</td>\n",
       "      <td>0.166175</td>\n",
       "      <td>2</td>\n",
       "      <td>2</td>\n",
       "    </tr>\n",
       "    <tr>\n",
       "      <th>2</th>\n",
       "      <td>1.0</td>\n",
       "      <td>142.0</td>\n",
       "      <td>-1.723882</td>\n",
       "      <td>1</td>\n",
       "      <td>-1.364576</td>\n",
       "      <td>0</td>\n",
       "      <td>1</td>\n",
       "      <td>0.166175</td>\n",
       "      <td>2</td>\n",
       "      <td>3</td>\n",
       "    </tr>\n",
       "    <tr>\n",
       "      <th>3</th>\n",
       "      <td>1.0</td>\n",
       "      <td>141.0</td>\n",
       "      <td>0.967586</td>\n",
       "      <td>1</td>\n",
       "      <td>0.205802</td>\n",
       "      <td>1</td>\n",
       "      <td>1</td>\n",
       "      <td>0.166175</td>\n",
       "      <td>2</td>\n",
       "      <td>2</td>\n",
       "    </tr>\n",
       "    <tr>\n",
       "      <th>4</th>\n",
       "      <td>1.0</td>\n",
       "      <td>138.0</td>\n",
       "      <td>0.544341</td>\n",
       "      <td>1</td>\n",
       "      <td>0.371105</td>\n",
       "      <td>1</td>\n",
       "      <td>1</td>\n",
       "      <td>0.166175</td>\n",
       "      <td>2</td>\n",
       "      <td>2</td>\n",
       "    </tr>\n",
       "  </tbody>\n",
       "</table>\n",
       "</div>"
      ],
      "text/plain": [
       "   Board  A-Score      Gtot  Gnum    Gender  Age  Inst_Type       LEA  \\\n",
       "0    1.0    143.0  0.261324     1  0.619059    1          1  0.166175   \n",
       "1    1.0    145.0  0.134067     1  0.205802    1          1  0.166175   \n",
       "2    1.0    142.0 -1.723882     1 -1.364576    0          1  0.166175   \n",
       "3    1.0    141.0  0.967586     1  0.205802    1          1  0.166175   \n",
       "4    1.0    138.0  0.544341     1  0.371105    1          1  0.166175   \n",
       "\n",
       "   Institute  Student  \n",
       "0          2        1  \n",
       "1          2        2  \n",
       "2          2        3  \n",
       "3          2        2  \n",
       "4          2        2  "
      ]
     },
     "execution_count": 12,
     "metadata": {},
     "output_type": "execute_result"
    }
   ],
   "source": [
    "data.head()"
   ]
  },
  {
   "cell_type": "code",
   "execution_count": null,
   "metadata": {},
   "outputs": [],
   "source": [
    "# The variable 'Gtot' in the data set is the sum of exam scores over all the components taken by a given student. \n",
    "# We divide the score sum by the number of components taken, in order to obtain a mean score that is not inflated just because \n",
    "# a student takes more exams."
   ]
  },
  {
   "cell_type": "code",
   "execution_count": 13,
   "metadata": {},
   "outputs": [],
   "source": [
    "data[\"GCSE\"] = data[\"Gtot\"] / data[\"Gnum\"]"
   ]
  },
  {
   "cell_type": "code",
   "execution_count": 14,
   "metadata": {},
   "outputs": [],
   "source": [
    "# we need to create a new variable that combines the two codes.\n",
    "data[\"School\"] = [str(x) + str(y) for x,y in zip(data[\"LEA\"], data[\"Institute\"])]\n",
    "us = set(data[\"School\"])\n",
    "us = {x: k for k,x in enumerate(list(us))}\n",
    "data[\"School\"] = [us[x] for x in data[\"School\"]]"
   ]
  },
  {
   "cell_type": "code",
   "execution_count": null,
   "metadata": {},
   "outputs": [],
   "source": [
    "# These are all the variables in the analysis."
   ]
  },
  {
   "cell_type": "code",
   "execution_count": 15,
   "metadata": {},
   "outputs": [],
   "source": [
    "qdata = data[[\"GCSE\", \"Gender\", \"Age\", \"LEA\", \"Institute\", \"School\"]]\n",
    "qdata = np.asarray(qdata)"
   ]
  },
  {
   "cell_type": "code",
   "execution_count": 18,
   "metadata": {},
   "outputs": [],
   "source": [
    "family = sm.families.Gaussian()"
   ]
  },
  {
   "cell_type": "code",
   "execution_count": 19,
   "metadata": {},
   "outputs": [],
   "source": [
    "# The initial model considers only the school effect, and does not account for the fact that the schools are nested in LEA's."
   ]
  },
  {
   "cell_type": "code",
   "execution_count": 21,
   "metadata": {},
   "outputs": [
    {
     "name": "stdout",
     "output_type": "stream",
     "text": [
      "                               GEE Regression Results                              \n",
      "===================================================================================\n",
      "Dep. Variable:                        GCSE   No. Observations:                 4059\n",
      "Model:                                 GEE   No. clusters:                       65\n",
      "Method:                        Generalized   Min. cluster size:                   2\n",
      "                      Estimating Equations   Max. cluster size:                 198\n",
      "Family:                           Gaussian   Mean cluster size:                62.4\n",
      "Dependence structure:         Exchangeable   Num. iterations:                     5\n",
      "Date:                     Thu, 14 Feb 2019   Scale:                           0.643\n",
      "Covariance type:                    robust   Time:                         14:19:39\n",
      "==============================================================================\n",
      "                 coef    std err          z      P>|z|      [0.025      0.975]\n",
      "------------------------------------------------------------------------------\n",
      "Intercept     -0.0942      0.040     -2.349      0.019      -0.173      -0.016\n",
      "Age            0.1715      0.027      6.249      0.000       0.118       0.225\n",
      "Gender         0.5605      0.019     29.274      0.000       0.523       0.598\n",
      "==============================================================================\n",
      "Skew:                         -0.0297   Kurtosis:                       0.0560\n",
      "Centered skew:                -0.1431   Centered kurtosis:              0.1570\n",
      "==============================================================================\n"
     ]
    }
   ],
   "source": [
    "ex = sm.cov_struct.Exchangeable()\n",
    "model1 = sm.GEE.from_formula(\"GCSE ~ Age + Gender\", \"LEA\",\n",
    "                       data=data, family=family, cov_struct=ex)\n",
    "result1 = model1.fit()\n",
    "print (result1.summary())"
   ]
  },
  {
   "cell_type": "code",
   "execution_count": 23,
   "metadata": {},
   "outputs": [
    {
     "name": "stdout",
     "output_type": "stream",
     "text": [
      "The correlation between two observations in the same cluster is 0.109\n"
     ]
    }
   ],
   "source": [
    "# The dependence among subjects within a school is fairly weak:\n",
    "print (ex.summary())"
   ]
  },
  {
   "cell_type": "code",
   "execution_count": 25,
   "metadata": {},
   "outputs": [
    {
     "name": "stdout",
     "output_type": "stream",
     "text": [
      "                               GEE Regression Results                              \n",
      "===================================================================================\n",
      "Dep. Variable:                        GCSE   No. Observations:                 4059\n",
      "Model:                                 GEE   No. clusters:                       65\n",
      "Method:                        Generalized   Min. cluster size:                   2\n",
      "                      Estimating Equations   Max. cluster size:                 198\n",
      "Family:                           Gaussian   Mean cluster size:                62.4\n",
      "Dependence structure:               Nested   Num. iterations:                    60\n",
      "Date:                     Thu, 14 Feb 2019   Scale:                           0.725\n",
      "Covariance type:                    robust   Time:                         14:22:24\n",
      "==============================================================================\n",
      "                 coef    std err          z      P>|z|      [0.025      0.975]\n",
      "------------------------------------------------------------------------------\n",
      "Intercept      0.1967      0.147      1.335      0.182      -0.092       0.485\n",
      "Age            0.1460      0.063      2.317      0.021       0.022       0.270\n",
      "Gender         0.5484      0.135      4.057      0.000       0.283       0.813\n",
      "==============================================================================\n",
      "Skew:                         -0.0304   Kurtosis:                       0.0584\n",
      "Centered skew:                -0.1479   Centered kurtosis:              0.1500\n",
      "==============================================================================\n"
     ]
    },
    {
     "name": "stderr",
     "output_type": "stream",
     "text": [
      "C:\\Users\\kxi110617\\AppData\\Local\\conda\\conda\\envs\\deeplearning\\lib\\site-packages\\statsmodels\\genmod\\generalized_estimating_equations.py:1128: IterationLimitWarning: Iteration limit reached prior to convergence\n",
      "  IterationLimitWarning)\n"
     ]
    }
   ],
   "source": [
    "# Next we fit the model using the nested dependence structure. Since the iterations are somewhat slow, \n",
    "# we limit the number of iterations. This may result in a warning message.\n",
    "ne = sm.cov_struct.Nested()\n",
    "model2 = sm.GEE.from_formula(\"GCSE ~ Age + Gender\", \"LEA\",\n",
    "                        data=data, family=family, cov_struct=ne,\n",
    "                        dep_data=data[\"Institute\"])\n",
    "result2 = model2.fit() #maxiter=10)\n",
    "print (result2.summary())"
   ]
  },
  {
   "cell_type": "code",
   "execution_count": 27,
   "metadata": {},
   "outputs": [
    {
     "name": "stdout",
     "output_type": "stream",
     "text": [
      "Variance estimates\n",
      "------------------\n",
      "Component 1: 0.000\n",
      "Component 2: 24013633618002.078\n",
      "Residual: -24013633618001.352\n",
      "\n"
     ]
    }
   ],
   "source": [
    "print (ne.summary())"
   ]
  },
  {
   "cell_type": "code",
   "execution_count": null,
   "metadata": {},
   "outputs": [],
   "source": [
    "# https://nbviewer.jupyter.org/urls/umich.box.com/shared/static/wt4jlup9nwbt2d69xvm6.ipynb?create=1"
   ]
  }
 ],
 "metadata": {
  "kernelspec": {
   "display_name": "Python 3",
   "language": "python",
   "name": "python3"
  },
  "language_info": {
   "codemirror_mode": {
    "name": "ipython",
    "version": 3
   },
   "file_extension": ".py",
   "mimetype": "text/x-python",
   "name": "python",
   "nbconvert_exporter": "python",
   "pygments_lexer": "ipython3",
   "version": "3.5.5"
  }
 },
 "nbformat": 4,
 "nbformat_minor": 2
}
