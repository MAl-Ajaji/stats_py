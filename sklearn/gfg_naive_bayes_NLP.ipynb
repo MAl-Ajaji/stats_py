{
 "cells": [
  {
   "cell_type": "code",
   "execution_count": 19,
   "metadata": {},
   "outputs": [],
   "source": [
    "# cleaning texts \n",
    "import pandas as pd \n",
    "import re \n",
    "import nltk \n",
    "from nltk.corpus import stopwords \n",
    "from nltk.stem.porter import PorterStemmer \n",
    "from sklearn.feature_extraction.text import CountVectorizer \n",
    "\n",
    "import warnings; warnings.simplefilter('ignore')\n",
    "\n",
    "import logging\n",
    "logger = logging.getLogger()\n",
    "logger.setLevel(logging.CRITICAL)"
   ]
  },
  {
   "cell_type": "code",
   "execution_count": 4,
   "metadata": {},
   "outputs": [
    {
     "data": {
      "text/html": [
       "<div>\n",
       "<style scoped>\n",
       "    .dataframe tbody tr th:only-of-type {\n",
       "        vertical-align: middle;\n",
       "    }\n",
       "\n",
       "    .dataframe tbody tr th {\n",
       "        vertical-align: top;\n",
       "    }\n",
       "\n",
       "    .dataframe thead th {\n",
       "        text-align: right;\n",
       "    }\n",
       "</style>\n",
       "<table border=\"1\" class=\"dataframe\">\n",
       "  <thead>\n",
       "    <tr style=\"text-align: right;\">\n",
       "      <th></th>\n",
       "      <th>Text</th>\n",
       "      <th>Reviews</th>\n",
       "    </tr>\n",
       "  </thead>\n",
       "  <tbody>\n",
       "    <tr>\n",
       "      <th>0</th>\n",
       "      <td>I liked the movie</td>\n",
       "      <td>positive</td>\n",
       "    </tr>\n",
       "    <tr>\n",
       "      <th>1</th>\n",
       "      <td>It’s a good movie. Nice story</td>\n",
       "      <td>positive</td>\n",
       "    </tr>\n",
       "    <tr>\n",
       "      <th>2</th>\n",
       "      <td>Hero’s acting is bad but heroine looks good. O...</td>\n",
       "      <td>positive</td>\n",
       "    </tr>\n",
       "    <tr>\n",
       "      <th>3</th>\n",
       "      <td>Nice songs. But sadly boring ending.</td>\n",
       "      <td>negative</td>\n",
       "    </tr>\n",
       "    <tr>\n",
       "      <th>4</th>\n",
       "      <td>sad movie, boring movie</td>\n",
       "      <td>negative</td>\n",
       "    </tr>\n",
       "  </tbody>\n",
       "</table>\n",
       "</div>"
      ],
      "text/plain": [
       "                                                Text   Reviews\n",
       "0                                  I liked the movie  positive\n",
       "1                      It’s a good movie. Nice story  positive\n",
       "2  Hero’s acting is bad but heroine looks good. O...  positive\n",
       "3               Nice songs. But sadly boring ending.  negative\n",
       "4                            sad movie, boring movie  negative"
      ]
     },
     "execution_count": 4,
     "metadata": {},
     "output_type": "execute_result"
    }
   ],
   "source": [
    "dataset = [[\"I liked the movie\", \"positive\"], \n",
    "           [\"It’s a good movie. Nice story\", \"positive\"], \n",
    "           [\"Hero’s acting is bad but heroine looks good. Overall nice movie\", \n",
    "            \"positive\"], \n",
    "            [\"Nice songs. But sadly boring ending.\", \"negative\"], \n",
    "            [\"sad movie, boring movie\", \"negative\"]] \n",
    "              \n",
    "dataset = pd.DataFrame(dataset) \n",
    "dataset.columns = [\"Text\", \"Reviews\"] \n",
    "dataset.head()"
   ]
  },
  {
   "cell_type": "code",
   "execution_count": 21,
   "metadata": {},
   "outputs": [],
   "source": [
    "# nltk.download('stopwords')   \n",
    "# corpus = [] "
   ]
  },
  {
   "cell_type": "code",
   "execution_count": 6,
   "metadata": {},
   "outputs": [],
   "source": [
    "for i in range(0, 5): \n",
    "    text = re.sub('[^a-zA-Z]', '', dataset['Text'][i]) \n",
    "    text = text.lower() \n",
    "    text = text.split() \n",
    "    ps = PorterStemmer() \n",
    "    text = ''.join(text) \n",
    "    corpus.append(text) "
   ]
  },
  {
   "cell_type": "code",
   "execution_count": 7,
   "metadata": {},
   "outputs": [],
   "source": [
    "# creating bag of words model \n",
    "cv = CountVectorizer(max_features = 1500) \n",
    "  \n",
    "X = cv.fit_transform(corpus).toarray() \n",
    "y = dataset.iloc[:, 1].values "
   ]
  },
  {
   "cell_type": "code",
   "execution_count": 12,
   "metadata": {},
   "outputs": [],
   "source": [
    "# splitting the data set into training set and test set \n",
    "from sklearn.model_selection import train_test_split # corrected from cross_validation\n",
    "  \n",
    "X_train, X_test, y_train, y_test = train_test_split(X, y, test_size = 0.25, random_state = 0) "
   ]
  },
  {
   "cell_type": "code",
   "execution_count": 13,
   "metadata": {},
   "outputs": [
    {
     "data": {
      "text/plain": [
       "array([[0, 0],\n",
       "       [2, 0]], dtype=int64)"
      ]
     },
     "execution_count": 13,
     "metadata": {},
     "output_type": "execute_result"
    }
   ],
   "source": [
    "# fitting naive bayes to the training set \n",
    "\n",
    "from sklearn.naive_bayes import GaussianNB \n",
    "from sklearn.metrics import confusion_matrix \n",
    "  \n",
    "classifier = GaussianNB(); \n",
    "classifier.fit(X_train, y_train) \n",
    "  \n",
    "# predicting test set results \n",
    "y_pred = classifier.predict(X_test) \n",
    "  \n",
    "# making the confusion matrix \n",
    "cm = confusion_matrix(y_test, y_pred) \n",
    "cm  # all wrong ?"
   ]
  },
  {
   "cell_type": "code",
   "execution_count": null,
   "metadata": {},
   "outputs": [],
   "source": [
    "# https://www.geeksforgeeks.org/applying-multinomial-naive-bayes-to-nlp-problems/"
   ]
  }
 ],
 "metadata": {
  "kernelspec": {
   "display_name": "Python 3",
   "language": "python",
   "name": "python3"
  },
  "language_info": {
   "codemirror_mode": {
    "name": "ipython",
    "version": 3
   },
   "file_extension": ".py",
   "mimetype": "text/x-python",
   "name": "python",
   "nbconvert_exporter": "python",
   "pygments_lexer": "ipython3",
   "version": "3.5.5"
  }
 },
 "nbformat": 4,
 "nbformat_minor": 2
}
